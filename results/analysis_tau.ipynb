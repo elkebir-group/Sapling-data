{
 "cells": [
  {
   "cell_type": "code",
   "execution_count": 237,
   "id": "33cc417d-e401-4609-8627-7abcd9dccd6e",
   "metadata": {},
   "outputs": [],
   "source": [
    "import pandas as pd\n",
    "import seaborn as sns\n",
    "import numpy as np\n",
    "import glob\n",
    "import os\n",
    "import matplotlib as mpl\n",
    "import matplotlib.pyplot as plt\n",
    "from tqdm.notebook import tqdm\n",
    "sns.set_context(\"notebook\", font_scale=1.25)"
   ]
  },
  {
   "cell_type": "code",
   "execution_count": 108,
   "id": "2b5e27fb-cab6-4b4e-935b-ef975950ff1e",
   "metadata": {},
   "outputs": [],
   "source": [
    "def parse_gtime(filename):\n",
    "    \"\"\"\n",
    "    Parses a gtime output file to extract elapsed time and maximum memory usage.\n",
    "\n",
    "    Args:\n",
    "        filename (str): Path to the gtime output file.\n",
    "\n",
    "    Returns:\n",
    "        tuple: A tuple containing:\n",
    "               - time (str): Elapsed wall clock time in the format \"h:mm:ss\" or \"m:ss\".\n",
    "               - memory (int): Maximum resident set size in kilobytes.\n",
    "    \"\"\"\n",
    "\n",
    "    def convert_to_seconds(time_str):\n",
    "        \"\"\"\n",
    "        Converts a time string in the format \"h:mm:ss\" or \"m:ss\" to seconds.\n",
    "    \n",
    "        Args:\n",
    "            time_str (str): Time string in \"h:mm:ss\" or \"m:ss\" format.\n",
    "    \n",
    "        Returns:\n",
    "            float: Time in seconds.\n",
    "        \"\"\"\n",
    "        parts = time_str.split(\":\")\n",
    "        if len(parts) == 3:  # Format: h:mm:ss\n",
    "            hours, minutes, seconds = map(float, parts)\n",
    "            return hours * 3600 + minutes * 60 + seconds\n",
    "        elif len(parts) == 2:  # Format: m:ss\n",
    "            minutes, seconds = map(float, parts)\n",
    "            return minutes * 60 + seconds\n",
    "        elif len(parts) == 1: # just seconds\n",
    "            return float(parts[0])\n",
    "        else:\n",
    "            raise ValueError(f\"Unrecognized time format: {time_str}\")\n",
    "            \n",
    "    time = None\n",
    "    memory = None\n",
    "\n",
    "    with open(filename, 'r') as file:\n",
    "        for line in file:\n",
    "            # Extract elapsed time\n",
    "            if line.strip().startswith(\"Elapsed (wall clock) time\"):\n",
    "                time_str = line.strip().strip(\"Elapsed (wall clock) time (h:mm:ss or m:ss):\")\n",
    "                time = convert_to_seconds(time_str)\n",
    "\n",
    "            # Extract maximum memory usage\n",
    "            if line.strip().startswith(\"Maximum resident set size\"):\n",
    "                memory = int(line.split(\":\")[-1].strip())\n",
    "\n",
    "    return time, memory"
   ]
  },
  {
   "cell_type": "code",
   "execution_count": 136,
   "id": "a9e92d09-394b-4650-95f3-0603cddcc197",
   "metadata": {},
   "outputs": [],
   "source": [
    "def parse_number_of_mutations(filename):\n",
    "    with open(filename, \"r\") as f:\n",
    "        s = f.readline().split(\"\\t\")\n",
    "        pi_vec = [ss for ss in s if ss.startswith('pi_')]\n",
    "        return len(pi_vec)"
   ]
  },
  {
   "cell_type": "code",
   "execution_count": 247,
   "id": "dd602c31-6d27-4ffc-ba54-7084b18eac20",
   "metadata": {},
   "outputs": [],
   "source": [
    "# handle infer_full_trees experiments\n",
    "rows = []\n",
    "for filename in glob.glob(\"../data/sims/*.tsv\"):\n",
    "    basename = os.path.basename(filename).rstrip(\".tsv\")\n",
    "    s = basename.split('_')\n",
    "    n = int(s[0][1:])\n",
    "    if n == 8: continue\n",
    "    m = int(s[1][1:])\n",
    "    seed = int(s[2][1:])\n",
    "\n",
    "    for tau in [1,5,10,20,50]:\n",
    "        time, memory = parse_gtime(\"sims_tau_cvxopt_small_expand/\" + basename + \"_t\" + str(tau) + \".time.txt\")\n",
    "        row = {'n' : n, 'm' : m, 'seed' : seed, 'tau' : tau, 'time' : time, 'memory' : memory, 'method' : 'cvxopt-small'}\n",
    "        rows.append(row)\n",
    "\n",
    "        time, memory = parse_gtime(\"sims_tau_fastppm_small_expand/\" + basename + \"_t\" + str(tau) + \".time.txt\")\n",
    "        S = parse_number_of_mutations(\"sims_tau_fastppm_small_expand/\" + basename + \"_t\" + str(tau) + \".txt\")\n",
    "        row = {'|S|' : S, 'n' : n, 'm' : m, 'seed' : seed, 'tau' : tau, 'time' : time, 'memory' : memory, 'method' : 'fastppm-small'}\n",
    "        rows.append(row)\n",
    "\n",
    "        time, memory = parse_gtime(\"sims_tau_fastppm_big_expand/\" + basename + \"_t\" + str(tau) + \".time.txt\")\n",
    "        S = parse_number_of_mutations(\"sims_tau_fastppm_big_expand/\" + basename + \"_t\" + str(tau) + \".txt\")\n",
    "        row = {'|S|' : S, 'n' : n, 'm' : m, 'seed' : seed, 'tau' : tau, 'time' : time, 'memory' : memory, 'method' : 'fastppm-big'}\n",
    "        rows.append(row)\n",
    "        \n",
    "df_full_trees = pd.DataFrame(rows)\n",
    "df_full_trees['frac'] = df_full_trees['|S|']/n"
   ]
  },
  {
   "cell_type": "code",
   "execution_count": 254,
   "id": "7416ecd9-e663-4570-bbf7-50103ca45b53",
   "metadata": {},
   "outputs": [
    {
     "data": {
      "text/plain": [
       "np.float64(0.24)"
      ]
     },
     "execution_count": 254,
     "metadata": {},
     "output_type": "execute_result"
    }
   ],
   "source": [
    "df_full_trees[(df_full_trees['tau'] == 1) & (df_full_trees['n'] == 20) & (df_full_trees['method'] == 'fastppm-small')]['frac'].median()"
   ]
  },
  {
   "cell_type": "code",
   "execution_count": 245,
   "id": "39d2384d-4c0c-4dc1-ae6f-3ca1494b51ff",
   "metadata": {},
   "outputs": [
    {
     "data": {
      "image/png": "[encoded data removed]",
      "text/plain": [
       "<Figure size 600x500 with 1 Axes>"
      ]
     },
     "metadata": {},
     "output_type": "display_data"
    },
    {
     "data": {
      "image/png": "[encoded data removed]",
      "text/plain": [
       "<Figure size 600x500 with 1 Axes>"
      ]
     },
     "metadata": {},
     "output_type": "display_data"
    },
    {
     "data": {
      "image/png": "[encoded data removed]",
      "text/plain": [
       "<Figure size 600x500 with 1 Axes>"
      ]
     },
     "metadata": {},
     "output_type": "display_data"
    }
   ],
   "source": [
    "for n in [20, 50, 100]:\n",
    "    df_tmp = df_full_trees[(df_full_trees[\"n\"] == n)]\n",
    "    fig, ax = plt.subplots(figsize=(6, 5))\n",
    "    sns.boxplot(data=df_tmp, ax=ax, x=\"tau\", y=\"time\", hue_order=['fastppm-small','fastppm-big','cvxopt-small'],\n",
    "                hue=\"method\", showfliers=False)\n",
    "    sns.stripplot(data=df_tmp, ax=ax, x=\"tau\", y=\"time\", hue_order=['fastppm-small','fastppm-big','cvxopt-small'],\n",
    "                  hue=\"method\",dodge=True, alpha=.5, linewidth=1)\n",
    "    ax.set_yscale(\"log\")\n",
    "    ax.set_ylabel(\"time [s]\")\n",
    "    ax.set_xlabel(\"number $\\\\tau$ of backbone trees\")\n",
    "    ax.set_title(\"$n=%d$ mutations\" % n)\n",
    "    ax.set_ylim((5e-3,1e5))\n",
    "    handles, labels = ax.get_legend_handles_labels()\n",
    "    labels[2] = \"Sapling (small, cvxopt)\"\n",
    "    labels[0] = \"Sapling (small, fastppm)\"\n",
    "    labels[1] = \"Sapling (big, fastppm)\"\n",
    "\n",
    "    plt.axhline(y=3600, color='gray', linestyle='--')\n",
    "    plt.text(x=-0.25, y=4000, s='1 h', color='gray', ha='center', va='bottom',fontsize='10')\n",
    "    plt.axhline(y=1, color='gray', linestyle='--')\n",
    "    plt.text(x=4.25, y=1.1, s='1 s', color='gray', ha='center', va='bottom',fontsize='10')\n",
    "    plt.axhline(y=60, color='gray', linestyle='--')\n",
    "    plt.text(x=-0.15, y=60.1, s='1 min', color='gray', ha='center', va='bottom',fontsize='10')\n",
    "    \n",
    "    plt.legend(handles[:3], labels[:3], loc='lower right')\n",
    "    plt.tight_layout()\n",
    "    plt.savefig(\"sapling_tau_n%d.pdf\" % n)"
   ]
  },
  {
   "cell_type": "code",
   "execution_count": 246,
   "id": "212321aa-889c-4434-9094-966bdf88146d",
   "metadata": {},
   "outputs": [
    {
     "name": "stderr",
     "output_type": "stream",
     "text": [
      "/var/folders/_6/xs7jqx4d4_x084c61frqwsrr0000gn/T/ipykernel_38071/2941306515.py:3: SettingWithCopyWarning: \n",
      "A value is trying to be set on a copy of a slice from a DataFrame.\n",
      "Try using .loc[row_indexer,col_indexer] = value instead\n",
      "\n",
      "See the caveats in the documentation: https://pandas.pydata.org/pandas-docs/stable/user_guide/indexing.html#returning-a-view-versus-a-copy\n",
      "  df_tmp['frac'] = df_tmp['|S|']/n\n",
      "/var/folders/_6/xs7jqx4d4_x084c61frqwsrr0000gn/T/ipykernel_38071/2941306515.py:3: SettingWithCopyWarning: \n",
      "A value is trying to be set on a copy of a slice from a DataFrame.\n",
      "Try using .loc[row_indexer,col_indexer] = value instead\n",
      "\n",
      "See the caveats in the documentation: https://pandas.pydata.org/pandas-docs/stable/user_guide/indexing.html#returning-a-view-versus-a-copy\n",
      "  df_tmp['frac'] = df_tmp['|S|']/n\n",
      "/var/folders/_6/xs7jqx4d4_x084c61frqwsrr0000gn/T/ipykernel_38071/2941306515.py:3: SettingWithCopyWarning: \n",
      "A value is trying to be set on a copy of a slice from a DataFrame.\n",
      "Try using .loc[row_indexer,col_indexer] = value instead\n",
      "\n",
      "See the caveats in the documentation: https://pandas.pydata.org/pandas-docs/stable/user_guide/indexing.html#returning-a-view-versus-a-copy\n",
      "  df_tmp['frac'] = df_tmp['|S|']/n\n"
     ]
    },
    {
     "data": {
      "image/png": "[encoded data removed]",
      "text/plain": [
       "<Figure size 600x500 with 1 Axes>"
      ]
     },
     "metadata": {},
     "output_type": "display_data"
    },
    {
     "data": {
      "image/png": "[encoded data removed]",
      "text/plain": [
       "<Figure size 600x500 with 1 Axes>"
      ]
     },
     "metadata": {},
     "output_type": "display_data"
    },
    {
     "data": {
      "image/png": "[encoded data removed]",
      "text/plain": [
       "<Figure size 600x500 with 1 Axes>"
      ]
     },
     "metadata": {},
     "output_type": "display_data"
    }
   ],
   "source": [
    "for n in [20, 50, 100]:\n",
    "    df_tmp = df_full_trees[(df_full_trees[\"n\"] == n) & ((df_full_trees[\"method\"] == 'fastppm-small') | (df_full_trees[\"method\"] == 'fastppm-big'))]\n",
    "    df_tmp['frac'] = df_tmp['|S|']/n\n",
    "    fig, ax = plt.subplots(figsize=(6, 5))\n",
    "    sns.boxplot(data=df_tmp, hue='method',\n",
    "                ax=ax, x=\"tau\", y=\"frac\", showfliers=False)\n",
    "    sns.stripplot(data=df_tmp, hue='method', dodge=True,\n",
    "                  ax=ax, x=\"tau\", y=\"frac\", alpha=.5, linewidth=1)\n",
    "    # ax.set_yscale(\"log\")\n",
    "    ax.set_ylabel(\"fraction $|S|/n$ of mutations\")\n",
    "    ax.set_xlabel(\"number $\\\\tau$ of backbone trees\")\n",
    "    ax.set_title(\"$n=%d$ mutations\" % n)\n",
    "    ax.set_ylim((-0.05, 1.05))\n",
    "    # if n==20:\n",
    "        # ax.yaxis.set_major_locator(mpl.ticker.MultipleLocator(5))\n",
    "\n",
    "    handles, labels = ax.get_legend_handles_labels()\n",
    "    labels[0] = \"Sapling (small, fastppm)\"\n",
    "    labels[1] = \"Sapling (big, fastppm)\"\n",
    "\n",
    "    plt.legend(handles[:2], labels[:2], loc='lower right')\n",
    "    \n",
    "    plt.tight_layout()\n",
    "    plt.savefig(\"sapling_S_n%d.pdf\" % n)"
   ]
  },
  {
   "cell_type": "code",
   "execution_count": 2,
   "id": "7103ea79-d879-4e4e-9a00-f90740a92a7d",
   "metadata": {},
   "outputs": [],
   "source": [
    "def extract_matrices(input_file):\n",
    "    \"\"\"\n",
    "    Extracts variant read count matrix (V) and total read count matrix (D) from a TSV file.\n",
    "\n",
    "    Args:\n",
    "        input_file (str): Path to the input TSV file.\n",
    "\n",
    "    Returns:\n",
    "        tuple: A tuple containing:\n",
    "               - V (numpy.ndarray): A 2D array of variant read counts (samples x mutations).\n",
    "               - D (numpy.ndarray): A 2D array of total read counts (samples x mutations).\n",
    "    \"\"\"\n",
    "    # Read the TSV file into a DataFrame\n",
    "    df = pd.read_csv(input_file, sep='\\t')\n",
    "\n",
    "    # Sort the DataFrame by sample_index and mutation_index\n",
    "    df = df.sort_values(by=['sample_index', 'mutation_index'])\n",
    "\n",
    "    # Pivot the DataFrame to create matrices\n",
    "    V = df.pivot(index='sample_index', columns='mutation_index', values='var').values\n",
    "    D = df.pivot(index='sample_index', columns='mutation_index', values='depth').values\n",
    "\n",
    "    return V, D"
   ]
  },
  {
   "cell_type": "code",
   "execution_count": 18,
   "id": "c69f2f15-c176-4993-b27c-4cdd0eba528d",
   "metadata": {},
   "outputs": [],
   "source": [
    "import networkx as nx\n",
    "import itertools\n",
    "import fastppm  # Assuming fastppm is installed and available\n",
    "\n",
    "# Parameters\n",
    "n = 8  # Number of nodes\n",
    "rho = 0.9  # Factor for filtering trees\n",
    "\n",
    "# Step 1: Generate all labeled rooted trees with n=8 and root=0\n",
    "def generate_rooted_trees(n):\n",
    "    \"\"\"Generate all labeled rooted trees with n nodes, where 0 is the root.\"\"\"\n",
    "    # Generate all possible edges (excluding self-loops)\n",
    "    possible_edges = list(itertools.combinations(range(n), 2))\n",
    "    \n",
    "    # Generate all possible trees using Prufer sequences\n",
    "    prufer_sequences = itertools.product(range(n), repeat=n-2)\n",
    "    \n",
    "    trees = []\n",
    "    for seq in tqdm(prufer_sequences, desc=\"Generating trees\"):\n",
    "        # Create tree from Prufer sequence\n",
    "        edges = nx.from_prufer_sequence(seq)\n",
    "        G = nx.Graph(edges)\n",
    "\n",
    "        for root in range(n):\n",
    "            # Root the tree at node root\n",
    "            tree = nx.dfs_tree(G, source=root)\n",
    "            parent_list = [-1] * n\n",
    "            for (u,v) in tree.edges:\n",
    "                parent_list[v] = u\n",
    "            trees.append(parent_list)\n",
    "    \n",
    "    return trees\n",
    "\n",
    "# Step 2: Compute log-likelihood for each tree\n",
    "def compute_log_likelihoods(trees, filename):\n",
    "    \"\"\"Compute log-likelihood for each tree using fastppm.regress.\"\"\"\n",
    "    V, D = extract_matrices(filename)\n",
    "    log_likelihoods = []\n",
    "    for tree in tqdm(trees, desc=(\"Regressing %s\" % filename)):\n",
    "        adj_list = [[] for _ in range(len(tree))]\n",
    "        for child, parent in enumerate(tree):\n",
    "            if parent != -1:\n",
    "                adj_list[parent].append(child)\n",
    "        try:\n",
    "            result = fastppm.regress_counts(adj_list, V, D)  # Call fastppm.regress\n",
    "        except ValueError as e:\n",
    "            print(e)\n",
    "            print(tree, adj_list)\n",
    "        llh = -result['objective']\n",
    "        log_likelihoods.append((tree, llh))\n",
    "    return log_likelihoods\n",
    "\n",
    "# Step 3: Filter trees based on log-likelihood\n",
    "def filter_trees(log_likelihoods, max_llh, log_rho):\n",
    "    \"\"\"Filter trees whose log-likelihood is within a factor of rho from the maximum.\"\"\"\n",
    "    llh_EPS = 1e-4\n",
    "    threshold = max_llh + log_rho - llh_EPS\n",
    "    filtered_trees = [(tree, llh) for tree, llh in log_likelihoods if llh >= threshold]\n",
    "    return filtered_trees"
   ]
  },
  {
   "cell_type": "code",
   "execution_count": 8,
   "id": "74a19acd-a414-4944-8cfc-d6737d5a46e4",
   "metadata": {},
   "outputs": [
    {
     "data": {
      "application/vnd.jupyter.widget-view+json": {
       "model_id": "7bac3581bb8c40baab4194ce9e823c66",
       "version_major": 2,
       "version_minor": 0
      },
      "text/plain": [
       "Generating trees: 0it [00:00, ?it/s]"
      ]
     },
     "metadata": {},
     "output_type": "display_data"
    }
   ],
   "source": [
    "trees = generate_rooted_trees(n)  # Generate all rooted trees"
   ]
  },
  {
   "cell_type": "code",
   "execution_count": 19,
   "id": "46c9387c-b910-4f6d-a447-ae1f57ca8eff",
   "metadata": {},
   "outputs": [
    {
     "data": {
      "application/vnd.jupyter.widget-view+json": {
       "model_id": "281d685b90a54005b7488dae35dff1a1",
       "version_major": 2,
       "version_minor": 0
      },
      "text/plain": [
       "  0%|          | 0/20 [00:00<?, ?it/s]"
      ]
     },
     "metadata": {},
     "output_type": "display_data"
    },
    {
     "data": {
      "application/vnd.jupyter.widget-view+json": {
       "model_id": "76fb0ddb083847448815cc8c83034cbc",
       "version_major": 2,
       "version_minor": 0
      },
      "text/plain": [
       "Regressing ../data/sims/n8_m2_s19.tsv:   0%|          | 0/2097152 [00:00<?, ?it/s]"
      ]
     },
     "metadata": {},
     "output_type": "display_data"
    },
    {
     "data": {
      "application/vnd.jupyter.widget-view+json": {
       "model_id": "46437e977fa24dfc8fddfed9e63bb486",
       "version_major": 2,
       "version_minor": 0
      },
      "text/plain": [
       "Regressing ../data/sims/n8_m2_s2.tsv:   0%|          | 0/2097152 [00:00<?, ?it/s]"
      ]
     },
     "metadata": {},
     "output_type": "display_data"
    },
    {
     "data": {
      "application/vnd.jupyter.widget-view+json": {
       "model_id": "63200d5353b047bb967091b1922a152a",
       "version_major": 2,
       "version_minor": 0
      },
      "text/plain": [
       "Regressing ../data/sims/n8_m2_s3.tsv:   0%|          | 0/2097152 [00:00<?, ?it/s]"
      ]
     },
     "metadata": {},
     "output_type": "display_data"
    },
    {
     "data": {
      "application/vnd.jupyter.widget-view+json": {
       "model_id": "0ca4e9fb5eb04899844e2ee1486aac98",
       "version_major": 2,
       "version_minor": 0
      },
      "text/plain": [
       "Regressing ../data/sims/n8_m2_s18.tsv:   0%|          | 0/2097152 [00:00<?, ?it/s]"
      ]
     },
     "metadata": {},
     "output_type": "display_data"
    },
    {
     "data": {
      "application/vnd.jupyter.widget-view+json": {
       "model_id": "9213e5be746244489fb0c35e0cc313dc",
       "version_major": 2,
       "version_minor": 0
      },
      "text/plain": [
       "Regressing ../data/sims/n8_m2_s1.tsv:   0%|          | 0/2097152 [00:00<?, ?it/s]"
      ]
     },
     "metadata": {},
     "output_type": "display_data"
    },
    {
     "data": {
      "application/vnd.jupyter.widget-view+json": {
       "model_id": "7c1eeaa11c3245caab76329334d22904",
       "version_major": 2,
       "version_minor": 0
      },
      "text/plain": [
       "Regressing ../data/sims/n8_m2_s4.tsv:   0%|          | 0/2097152 [00:00<?, ?it/s]"
      ]
     },
     "metadata": {},
     "output_type": "display_data"
    },
    {
     "data": {
      "application/vnd.jupyter.widget-view+json": {
       "model_id": "83d98db4f13a4d38b3358fd156f0d0b1",
       "version_major": 2,
       "version_minor": 0
      },
      "text/plain": [
       "Regressing ../data/sims/n8_m2_s5.tsv:   0%|          | 0/2097152 [00:00<?, ?it/s]"
      ]
     },
     "metadata": {},
     "output_type": "display_data"
    },
    {
     "data": {
      "application/vnd.jupyter.widget-view+json": {
       "model_id": "4b22c5915beb44e5a81a9831db9837db",
       "version_major": 2,
       "version_minor": 0
      },
      "text/plain": [
       "Regressing ../data/sims/n8_m2_s20.tsv:   0%|          | 0/2097152 [00:00<?, ?it/s]"
      ]
     },
     "metadata": {},
     "output_type": "display_data"
    },
    {
     "data": {
      "application/vnd.jupyter.widget-view+json": {
       "model_id": "165712bff57e48929da4151549f75c4d",
       "version_major": 2,
       "version_minor": 0
      },
      "text/plain": [
       "Regressing ../data/sims/n8_m2_s7.tsv:   0%|          | 0/2097152 [00:00<?, ?it/s]"
      ]
     },
     "metadata": {},
     "output_type": "display_data"
    },
    {
     "data": {
      "application/vnd.jupyter.widget-view+json": {
       "model_id": "8f252c302dcf4ba3a4f165adac5852e0",
       "version_major": 2,
       "version_minor": 0
      },
      "text/plain": [
       "Regressing ../data/sims/n8_m2_s6.tsv:   0%|          | 0/2097152 [00:00<?, ?it/s]"
      ]
     },
     "metadata": {},
     "output_type": "display_data"
    },
    {
     "data": {
      "application/vnd.jupyter.widget-view+json": {
       "model_id": "40203c4ec1a94201afaff2e6c116164b",
       "version_major": 2,
       "version_minor": 0
      },
      "text/plain": [
       "Regressing ../data/sims/n8_m2_s10.tsv:   0%|          | 0/2097152 [00:00<?, ?it/s]"
      ]
     },
     "metadata": {},
     "output_type": "display_data"
    },
    {
     "data": {
      "application/vnd.jupyter.widget-view+json": {
       "model_id": "5250cdc5eb084f8b89ef801d87fe84bf",
       "version_major": 2,
       "version_minor": 0
      },
      "text/plain": [
       "Regressing ../data/sims/n8_m2_s11.tsv:   0%|          | 0/2097152 [00:00<?, ?it/s]"
      ]
     },
     "metadata": {},
     "output_type": "display_data"
    },
    {
     "data": {
      "application/vnd.jupyter.widget-view+json": {
       "model_id": "0f5dd812d2304d428023fdccee75c09a",
       "version_major": 2,
       "version_minor": 0
      },
      "text/plain": [
       "Regressing ../data/sims/n8_m2_s13.tsv:   0%|          | 0/2097152 [00:00<?, ?it/s]"
      ]
     },
     "metadata": {},
     "output_type": "display_data"
    },
    {
     "data": {
      "application/vnd.jupyter.widget-view+json": {
       "model_id": "2f71f2d744764099aea4f14c3085b917",
       "version_major": 2,
       "version_minor": 0
      },
      "text/plain": [
       "Regressing ../data/sims/n8_m2_s8.tsv:   0%|          | 0/2097152 [00:00<?, ?it/s]"
      ]
     },
     "metadata": {},
     "output_type": "display_data"
    },
    {
     "data": {
      "application/vnd.jupyter.widget-view+json": {
       "model_id": "dcb3f2c2d2ee4aaab854cec543045b47",
       "version_major": 2,
       "version_minor": 0
      },
      "text/plain": [
       "Regressing ../data/sims/n8_m2_s9.tsv:   0%|          | 0/2097152 [00:00<?, ?it/s]"
      ]
     },
     "metadata": {},
     "output_type": "display_data"
    },
    {
     "data": {
      "application/vnd.jupyter.widget-view+json": {
       "model_id": "46ba0e65fe964714ab355cbe0c4ec8ea",
       "version_major": 2,
       "version_minor": 0
      },
      "text/plain": [
       "Regressing ../data/sims/n8_m2_s12.tsv:   0%|          | 0/2097152 [00:00<?, ?it/s]"
      ]
     },
     "metadata": {},
     "output_type": "display_data"
    },
    {
     "data": {
      "application/vnd.jupyter.widget-view+json": {
       "model_id": "b5e0d374739943cfb3e6b97d010e129f",
       "version_major": 2,
       "version_minor": 0
      },
      "text/plain": [
       "Regressing ../data/sims/n8_m2_s16.tsv:   0%|          | 0/2097152 [00:00<?, ?it/s]"
      ]
     },
     "metadata": {},
     "output_type": "display_data"
    },
    {
     "data": {
      "application/vnd.jupyter.widget-view+json": {
       "model_id": "50d4e8842a664315b0e4af0cd6427fc4",
       "version_major": 2,
       "version_minor": 0
      },
      "text/plain": [
       "Regressing ../data/sims/n8_m2_s17.tsv:   0%|          | 0/2097152 [00:00<?, ?it/s]"
      ]
     },
     "metadata": {},
     "output_type": "display_data"
    },
    {
     "data": {
      "application/vnd.jupyter.widget-view+json": {
       "model_id": "fd768814879345c7ab53b7e419a18122",
       "version_major": 2,
       "version_minor": 0
      },
      "text/plain": [
       "Regressing ../data/sims/n8_m2_s15.tsv:   0%|          | 0/2097152 [00:00<?, ?it/s]"
      ]
     },
     "metadata": {},
     "output_type": "display_data"
    },
    {
     "data": {
      "application/vnd.jupyter.widget-view+json": {
       "model_id": "91080052513844e79d27923bf947465d",
       "version_major": 2,
       "version_minor": 0
      },
      "text/plain": [
       "Regressing ../data/sims/n8_m2_s14.tsv:   0%|          | 0/2097152 [00:00<?, ?it/s]"
      ]
     },
     "metadata": {},
     "output_type": "display_data"
    }
   ],
   "source": [
    "log_rho = np.log(rho)\n",
    "for filename in tqdm(glob.glob(\"../data/sims/n8*.tsv\")):\n",
    "    log_likelihoods = compute_log_likelihoods(trees, filename)  # Compute log-likelihoods   \n",
    "    max_llh = max(llh for _, llh in log_likelihoods)\n",
    "    \n",
    "    filtered_trees = filter_trees(log_likelihoods, max_llh, log_rho)  # Filter trees\n",
    "    with open(\"sims_tau_n8_ground_truth/\" + os.path.basename(filename), \"w\") as f:\n",
    "        f.write(\"llh\\t\" + \"\\t\".join([\"pi_\" + str(i) for i in range(n)]) + \"\\n\")\n",
    "        for tree, llh in filtered_trees:\n",
    "            f.write(str(llh) + \"\\t\" + \"\\t\".join(map(str, tree)) + \"\\n\")"
   ]
  },
  {
   "cell_type": "code",
   "execution_count": 30,
   "id": "1448b753-7268-4a81-a929-b50c94f94026",
   "metadata": {},
   "outputs": [],
   "source": [
    "n=8\n",
    "GT_trees_per_filename = {}\n",
    "for filename in glob.glob(\"sims_tau_n8_ground_truth/*.tsv\"):\n",
    "    GT_trees = []\n",
    "    with open(filename, \"r\") as f:\n",
    "        f.readline()\n",
    "        for line in f:\n",
    "            s = line.rstrip(\"\\n\").split(\"\\t\")\n",
    "            llh = s[0]\n",
    "            parent_list = list(map(int,s[1:]))\n",
    "\n",
    "            GT_trees.append(parent_list)\n",
    "    GT_trees_per_filename[filename] = GT_trees"
   ]
  },
  {
   "cell_type": "code",
   "execution_count": 31,
   "id": "4162daec-2ee1-4b90-8b09-a2a6cbd0dade",
   "metadata": {},
   "outputs": [],
   "source": [
    "import itertools\n",
    "from collections import defaultdict\n",
    "import networkx as nx\n",
    "\n",
    "def determine_min_backbone_trees(GT_trees, n, ell):\n",
    "    \"\"\"\n",
    "    Determine the minimum backbone trees by evaluating all combinations of size ell.\n",
    "    \n",
    "    Args:\n",
    "        GT_trees (list): List of trees, where each tree is represented as an edge list.\n",
    "        n (int): Total number of nodes.\n",
    "        ell (int): Size of the subset to evaluate.\n",
    "    \n",
    "    Returns:\n",
    "        list: List of combinations X that result in the smallest set of unique subsetted trees.\n",
    "    \"\"\"\n",
    "    \n",
    "    def contract_other_edges(G, nodes):\n",
    "        # Create a copy of the graph to avoid modifying the original\n",
    "        G_minor = G.copy()\n",
    "        \n",
    "        # Iterate over all edges in the graph\n",
    "        for child, parent in enumerate(G_minor):\n",
    "            # print(f\"Examining ({parent}, {child}) given {nodes}... \",)\n",
    "            if child not in nodes:\n",
    "                G_minor[child] = None\n",
    "                # print(f\"{nodes} ;;; setting G_minor[{child}] = None,\")\n",
    "            elif parent not in nodes and parent != -1:\n",
    "                grand_parent = parent\n",
    "                while grand_parent not in nodes and grand_parent != -1:\n",
    "                    grand_parent = G[grand_parent]\n",
    "                G_minor[child] = grand_parent\n",
    "                # print(f\"setting G_minor[{child}] = {grand_parent},\")\n",
    "            # print()\n",
    "\n",
    "        return G_minor\n",
    "        \n",
    "    # Generate all combinations of size ell from the set range(n)\n",
    "    combinations = list(itertools.combinations(range(n), ell))\n",
    "    \n",
    "    # Initialize a dictionary to store the set of unique subsetted trees for each combination\n",
    "    subset_counts = defaultdict(int)\n",
    "    \n",
    "    # Iterate over each combination X\n",
    "    # combinations = [(1, 2, 3, 4, 5, 6)]\n",
    "    # combinations = [(1,)]\n",
    "    for idx, X in tqdm(enumerate(combinations)):\n",
    "        unique_trees = set()\n",
    "        \n",
    "        # Iterate over each tree in GT_trees\n",
    "        for tree in GT_trees:\n",
    "            # print(X, tree)\n",
    "            # Create a NetworkX graph from the edge list\n",
    "            G = contract_other_edges(tree, X)\n",
    "            # print(X, G)\n",
    "            # print()\n",
    "            # return\n",
    "                       \n",
    "            # Convert the induced subtree to a canonical representation (frozenset of edges)\n",
    "\n",
    "            # Add the canonical tree to the set of unique trees\n",
    "            unique_trees.add(tuple(G))\n",
    "        \n",
    "        # Record the number of unique subsetted trees for this combination X\n",
    "        subset_counts[X] = len(unique_trees)\n",
    "        # if len(unique_trees) == 1:\n",
    "        # print(X, len(unique_trees), unique_trees)\n",
    "    \n",
    "    # Find the minimum number of unique subsetted trees\n",
    "    min_count = min(subset_counts.values())\n",
    "    \n",
    "    # Find all combinations X that achieve the minimum count\n",
    "    min_combinations = [X for X, count in subset_counts.items() if count == min_count]\n",
    "    \n",
    "    return min_count"
   ]
  },
  {
   "cell_type": "code",
   "execution_count": 32,
   "id": "2a0fc6e3-5b60-4dda-aab3-edcac055e8a0",
   "metadata": {},
   "outputs": [
    {
     "data": {
      "application/vnd.jupyter.widget-view+json": {
       "model_id": "91dc3eab2f1a4729820633563c71bbbd",
       "version_major": 2,
       "version_minor": 0
      },
      "text/plain": [
       "  0%|          | 0/8 [00:00<?, ?it/s]"
      ]
     },
     "metadata": {},
     "output_type": "display_data"
    },
    {
     "data": {
      "application/vnd.jupyter.widget-view+json": {
       "model_id": "5f99035a72854393b22d62f10abcffc7",
       "version_major": 2,
       "version_minor": 0
      },
      "text/plain": [
       "0it [00:00, ?it/s]"
      ]
     },
     "metadata": {},
     "output_type": "display_data"
    },
    {
     "data": {
      "application/vnd.jupyter.widget-view+json": {
       "model_id": "06978043a54e4f2399829cf2003aecd3",
       "version_major": 2,
       "version_minor": 0
      },
      "text/plain": [
       "0it [00:00, ?it/s]"
      ]
     },
     "metadata": {},
     "output_type": "display_data"
    },
    {
     "data": {
      "application/vnd.jupyter.widget-view+json": {
       "model_id": "ebfd834b20cd461a92920f095dc7f098",
       "version_major": 2,
       "version_minor": 0
      },
      "text/plain": [
       "0it [00:00, ?it/s]"
      ]
     },
     "metadata": {},
     "output_type": "display_data"
    },
    {
     "data": {
      "application/vnd.jupyter.widget-view+json": {
       "model_id": "9c52ebbeb29b4cf7befc62b660be1ab8",
       "version_major": 2,
       "version_minor": 0
      },
      "text/plain": [
       "0it [00:00, ?it/s]"
      ]
     },
     "metadata": {},
     "output_type": "display_data"
    },
    {
     "data": {
      "application/vnd.jupyter.widget-view+json": {
       "model_id": "7b7e0aab8de5445d8b754b8209a94af2",
       "version_major": 2,
       "version_minor": 0
      },
      "text/plain": [
       "0it [00:00, ?it/s]"
      ]
     },
     "metadata": {},
     "output_type": "display_data"
    },
    {
     "data": {
      "application/vnd.jupyter.widget-view+json": {
       "model_id": "21c041a021a744a9bfec8963fa098d91",
       "version_major": 2,
       "version_minor": 0
      },
      "text/plain": [
       "0it [00:00, ?it/s]"
      ]
     },
     "metadata": {},
     "output_type": "display_data"
    },
    {
     "data": {
      "application/vnd.jupyter.widget-view+json": {
       "model_id": "e0a0a43641474bfe8e190fd702b15680",
       "version_major": 2,
       "version_minor": 0
      },
      "text/plain": [
       "0it [00:00, ?it/s]"
      ]
     },
     "metadata": {},
     "output_type": "display_data"
    },
    {
     "data": {
      "application/vnd.jupyter.widget-view+json": {
       "model_id": "8266660c34784253bc8193f991128536",
       "version_major": 2,
       "version_minor": 0
      },
      "text/plain": [
       "0it [00:00, ?it/s]"
      ]
     },
     "metadata": {},
     "output_type": "display_data"
    },
    {
     "data": {
      "application/vnd.jupyter.widget-view+json": {
       "model_id": "ca84ef53fd47488b9bfcdd8e0bdce5b0",
       "version_major": 2,
       "version_minor": 0
      },
      "text/plain": [
       "  0%|          | 0/8 [00:00<?, ?it/s]"
      ]
     },
     "metadata": {},
     "output_type": "display_data"
    },
    {
     "data": {
      "application/vnd.jupyter.widget-view+json": {
       "model_id": "93306bf7cfce42deabb8ffeddf3895d0",
       "version_major": 2,
       "version_minor": 0
      },
      "text/plain": [
       "0it [00:00, ?it/s]"
      ]
     },
     "metadata": {},
     "output_type": "display_data"
    },
    {
     "data": {
      "application/vnd.jupyter.widget-view+json": {
       "model_id": "812cf334571f42ea9bf353e381194a51",
       "version_major": 2,
       "version_minor": 0
      },
      "text/plain": [
       "0it [00:00, ?it/s]"
      ]
     },
     "metadata": {},
     "output_type": "display_data"
    },
    {
     "data": {
      "application/vnd.jupyter.widget-view+json": {
       "model_id": "7f027c02321a40109998ef5253fb25fc",
       "version_major": 2,
       "version_minor": 0
      },
      "text/plain": [
       "0it [00:00, ?it/s]"
      ]
     },
     "metadata": {},
     "output_type": "display_data"
    },
    {
     "data": {
      "application/vnd.jupyter.widget-view+json": {
       "model_id": "f103a0d337ce466680cc45e73e8c0c70",
       "version_major": 2,
       "version_minor": 0
      },
      "text/plain": [
       "0it [00:00, ?it/s]"
      ]
     },
     "metadata": {},
     "output_type": "display_data"
    },
    {
     "data": {
      "application/vnd.jupyter.widget-view+json": {
       "model_id": "d21328b339924b388ec309f6b47b8c17",
       "version_major": 2,
       "version_minor": 0
      },
      "text/plain": [
       "0it [00:00, ?it/s]"
      ]
     },
     "metadata": {},
     "output_type": "display_data"
    },
    {
     "data": {
      "application/vnd.jupyter.widget-view+json": {
       "model_id": "982f78b635354bdd87422ab64cbc25fb",
       "version_major": 2,
       "version_minor": 0
      },
      "text/plain": [
       "0it [00:00, ?it/s]"
      ]
     },
     "metadata": {},
     "output_type": "display_data"
    },
    {
     "data": {
      "application/vnd.jupyter.widget-view+json": {
       "model_id": "1a5c388945ee48f6b7d98d6e868b17d6",
       "version_major": 2,
       "version_minor": 0
      },
      "text/plain": [
       "0it [00:00, ?it/s]"
      ]
     },
     "metadata": {},
     "output_type": "display_data"
    },
    {
     "data": {
      "application/vnd.jupyter.widget-view+json": {
       "model_id": "7e8c9e77d75f4610afc948cacb3a29e7",
       "version_major": 2,
       "version_minor": 0
      },
      "text/plain": [
       "0it [00:00, ?it/s]"
      ]
     },
     "metadata": {},
     "output_type": "display_data"
    },
    {
     "data": {
      "application/vnd.jupyter.widget-view+json": {
       "model_id": "8f580157e85148ac92ffa085cac0aede",
       "version_major": 2,
       "version_minor": 0
      },
      "text/plain": [
       "  0%|          | 0/8 [00:00<?, ?it/s]"
      ]
     },
     "metadata": {},
     "output_type": "display_data"
    },
    {
     "data": {
      "application/vnd.jupyter.widget-view+json": {
       "model_id": "d355b45db1354263920f2379a67c1023",
       "version_major": 2,
       "version_minor": 0
      },
      "text/plain": [
       "0it [00:00, ?it/s]"
      ]
     },
     "metadata": {},
     "output_type": "display_data"
    },
    {
     "data": {
      "application/vnd.jupyter.widget-view+json": {
       "model_id": "87060547927a4001a7e361951ac6e5ed",
       "version_major": 2,
       "version_minor": 0
      },
      "text/plain": [
       "0it [00:00, ?it/s]"
      ]
     },
     "metadata": {},
     "output_type": "display_data"
    },
    {
     "data": {
      "application/vnd.jupyter.widget-view+json": {
       "model_id": "89cb53e6b97149599b819b4021182523",
       "version_major": 2,
       "version_minor": 0
      },
      "text/plain": [
       "0it [00:00, ?it/s]"
      ]
     },
     "metadata": {},
     "output_type": "display_data"
    },
    {
     "data": {
      "application/vnd.jupyter.widget-view+json": {
       "model_id": "089e0f9f2eae4fb5920d196a4c77eb00",
       "version_major": 2,
       "version_minor": 0
      },
      "text/plain": [
       "0it [00:00, ?it/s]"
      ]
     },
     "metadata": {},
     "output_type": "display_data"
    },
    {
     "data": {
      "application/vnd.jupyter.widget-view+json": {
       "model_id": "3f5779a1db72486fabded9f27b4f82e7",
       "version_major": 2,
       "version_minor": 0
      },
      "text/plain": [
       "0it [00:00, ?it/s]"
      ]
     },
     "metadata": {},
     "output_type": "display_data"
    },
    {
     "data": {
      "application/vnd.jupyter.widget-view+json": {
       "model_id": "8e5b484790c448928acf5f1805321d48",
       "version_major": 2,
       "version_minor": 0
      },
      "text/plain": [
       "0it [00:00, ?it/s]"
      ]
     },
     "metadata": {},
     "output_type": "display_data"
    },
    {
     "data": {
      "application/vnd.jupyter.widget-view+json": {
       "model_id": "6056f111e99942db9b49bfa66fa7a5bc",
       "version_major": 2,
       "version_minor": 0
      },
      "text/plain": [
       "0it [00:00, ?it/s]"
      ]
     },
     "metadata": {},
     "output_type": "display_data"
    },
    {
     "data": {
      "application/vnd.jupyter.widget-view+json": {
       "model_id": "d483f38c29f24133aa405694f5c06f29",
       "version_major": 2,
       "version_minor": 0
      },
      "text/plain": [
       "0it [00:00, ?it/s]"
      ]
     },
     "metadata": {},
     "output_type": "display_data"
    },
    {
     "data": {
      "application/vnd.jupyter.widget-view+json": {
       "model_id": "14c5c9b2595e4f798d6e77b39cc81155",
       "version_major": 2,
       "version_minor": 0
      },
      "text/plain": [
       "  0%|          | 0/8 [00:00<?, ?it/s]"
      ]
     },
     "metadata": {},
     "output_type": "display_data"
    },
    {
     "data": {
      "application/vnd.jupyter.widget-view+json": {
       "model_id": "085bfb59dd224a6ebac03067dda96629",
       "version_major": 2,
       "version_minor": 0
      },
      "text/plain": [
       "0it [00:00, ?it/s]"
      ]
     },
     "metadata": {},
     "output_type": "display_data"
    },
    {
     "data": {
      "application/vnd.jupyter.widget-view+json": {
       "model_id": "e88701c239d847c7bef46cdd83ca01ea",
       "version_major": 2,
       "version_minor": 0
      },
      "text/plain": [
       "0it [00:00, ?it/s]"
      ]
     },
     "metadata": {},
     "output_type": "display_data"
    },
    {
     "data": {
      "application/vnd.jupyter.widget-view+json": {
       "model_id": "7072eb95977a4ac7bdc49faf89645332",
       "version_major": 2,
       "version_minor": 0
      },
      "text/plain": [
       "0it [00:00, ?it/s]"
      ]
     },
     "metadata": {},
     "output_type": "display_data"
    },
    {
     "data": {
      "application/vnd.jupyter.widget-view+json": {
       "model_id": "2a321dae037c47659867de85505bfcc3",
       "version_major": 2,
       "version_minor": 0
      },
      "text/plain": [
       "0it [00:00, ?it/s]"
      ]
     },
     "metadata": {},
     "output_type": "display_data"
    },
    {
     "data": {
      "application/vnd.jupyter.widget-view+json": {
       "model_id": "ce82afa859034c31a18be935a228fec7",
       "version_major": 2,
       "version_minor": 0
      },
      "text/plain": [
       "0it [00:00, ?it/s]"
      ]
     },
     "metadata": {},
     "output_type": "display_data"
    },
    {
     "data": {
      "application/vnd.jupyter.widget-view+json": {
       "model_id": "cffda4eb8b9a4b98b8d9e94de60c2e2c",
       "version_major": 2,
       "version_minor": 0
      },
      "text/plain": [
       "0it [00:00, ?it/s]"
      ]
     },
     "metadata": {},
     "output_type": "display_data"
    },
    {
     "data": {
      "application/vnd.jupyter.widget-view+json": {
       "model_id": "09ec0870909d4a12a8647aa5a14986fc",
       "version_major": 2,
       "version_minor": 0
      },
      "text/plain": [
       "0it [00:00, ?it/s]"
      ]
     },
     "metadata": {},
     "output_type": "display_data"
    },
    {
     "data": {
      "application/vnd.jupyter.widget-view+json": {
       "model_id": "5de261a239e54f3d8c729d25d7b38e1a",
       "version_major": 2,
       "version_minor": 0
      },
      "text/plain": [
       "0it [00:00, ?it/s]"
      ]
     },
     "metadata": {},
     "output_type": "display_data"
    },
    {
     "data": {
      "application/vnd.jupyter.widget-view+json": {
       "model_id": "e0a52401c8e34dcaaa80f71fe8618c5b",
       "version_major": 2,
       "version_minor": 0
      },
      "text/plain": [
       "  0%|          | 0/8 [00:00<?, ?it/s]"
      ]
     },
     "metadata": {},
     "output_type": "display_data"
    },
    {
     "data": {
      "application/vnd.jupyter.widget-view+json": {
       "model_id": "66fcb747aa7f46079132fdc493bb1e1a",
       "version_major": 2,
       "version_minor": 0
      },
      "text/plain": [
       "0it [00:00, ?it/s]"
      ]
     },
     "metadata": {},
     "output_type": "display_data"
    },
    {
     "data": {
      "application/vnd.jupyter.widget-view+json": {
       "model_id": "0ee0837dedc24822b03fdf027cf07c4f",
       "version_major": 2,
       "version_minor": 0
      },
      "text/plain": [
       "0it [00:00, ?it/s]"
      ]
     },
     "metadata": {},
     "output_type": "display_data"
    },
    {
     "data": {
      "application/vnd.jupyter.widget-view+json": {
       "model_id": "68cf9f9bd003476d857f26a289bf7086",
       "version_major": 2,
       "version_minor": 0
      },
      "text/plain": [
       "0it [00:00, ?it/s]"
      ]
     },
     "metadata": {},
     "output_type": "display_data"
    },
    {
     "data": {
      "application/vnd.jupyter.widget-view+json": {
       "model_id": "0cd3a970ac074bdcb33a31dace4dd86f",
       "version_major": 2,
       "version_minor": 0
      },
      "text/plain": [
       "0it [00:00, ?it/s]"
      ]
     },
     "metadata": {},
     "output_type": "display_data"
    },
    {
     "data": {
      "application/vnd.jupyter.widget-view+json": {
       "model_id": "f8afc6dd1ffb4205b65c84fe999c443e",
       "version_major": 2,
       "version_minor": 0
      },
      "text/plain": [
       "0it [00:00, ?it/s]"
      ]
     },
     "metadata": {},
     "output_type": "display_data"
    },
    {
     "data": {
      "application/vnd.jupyter.widget-view+json": {
       "model_id": "8d0bb24a4d6d4f1097aae4d88223c3e6",
       "version_major": 2,
       "version_minor": 0
      },
      "text/plain": [
       "0it [00:00, ?it/s]"
      ]
     },
     "metadata": {},
     "output_type": "display_data"
    },
    {
     "data": {
      "application/vnd.jupyter.widget-view+json": {
       "model_id": "a6ed0477c8e7453ab06645537b52eea4",
       "version_major": 2,
       "version_minor": 0
      },
      "text/plain": [
       "0it [00:00, ?it/s]"
      ]
     },
     "metadata": {},
     "output_type": "display_data"
    },
    {
     "data": {
      "application/vnd.jupyter.widget-view+json": {
       "model_id": "41c39cca49694e719ddca14e2ffe9eec",
       "version_major": 2,
       "version_minor": 0
      },
      "text/plain": [
       "0it [00:00, ?it/s]"
      ]
     },
     "metadata": {},
     "output_type": "display_data"
    },
    {
     "data": {
      "application/vnd.jupyter.widget-view+json": {
       "model_id": "c6c192f2993241e7ad0e4a29ccb69eae",
       "version_major": 2,
       "version_minor": 0
      },
      "text/plain": [
       "  0%|          | 0/8 [00:00<?, ?it/s]"
      ]
     },
     "metadata": {},
     "output_type": "display_data"
    },
    {
     "data": {
      "application/vnd.jupyter.widget-view+json": {
       "model_id": "ae96dc1d2d5c4e83ad48c2533eab8c1d",
       "version_major": 2,
       "version_minor": 0
      },
      "text/plain": [
       "0it [00:00, ?it/s]"
      ]
     },
     "metadata": {},
     "output_type": "display_data"
    },
    {
     "data": {
      "application/vnd.jupyter.widget-view+json": {
       "model_id": "9ccfd117681546fb94977d141c140ad9",
       "version_major": 2,
       "version_minor": 0
      },
      "text/plain": [
       "0it [00:00, ?it/s]"
      ]
     },
     "metadata": {},
     "output_type": "display_data"
    },
    {
     "data": {
      "application/vnd.jupyter.widget-view+json": {
       "model_id": "fc65ce69079f4af5bb94eedce0c0188a",
       "version_major": 2,
       "version_minor": 0
      },
      "text/plain": [
       "0it [00:00, ?it/s]"
      ]
     },
     "metadata": {},
     "output_type": "display_data"
    },
    {
     "data": {
      "application/vnd.jupyter.widget-view+json": {
       "model_id": "f11ffa5bb1a940c8a8cc782ef9608d29",
       "version_major": 2,
       "version_minor": 0
      },
      "text/plain": [
       "0it [00:00, ?it/s]"
      ]
     },
     "metadata": {},
     "output_type": "display_data"
    },
    {
     "data": {
      "application/vnd.jupyter.widget-view+json": {
       "model_id": "9d3052bdfa344649ac82c4444607320b",
       "version_major": 2,
       "version_minor": 0
      },
      "text/plain": [
       "0it [00:00, ?it/s]"
      ]
     },
     "metadata": {},
     "output_type": "display_data"
    },
    {
     "data": {
      "application/vnd.jupyter.widget-view+json": {
       "model_id": "03ded2f7d4ea43dd986140a18edc9d5c",
       "version_major": 2,
       "version_minor": 0
      },
      "text/plain": [
       "0it [00:00, ?it/s]"
      ]
     },
     "metadata": {},
     "output_type": "display_data"
    },
    {
     "data": {
      "application/vnd.jupyter.widget-view+json": {
       "model_id": "3d08138bc53a4e92bb47f604545f9d42",
       "version_major": 2,
       "version_minor": 0
      },
      "text/plain": [
       "0it [00:00, ?it/s]"
      ]
     },
     "metadata": {},
     "output_type": "display_data"
    },
    {
     "data": {
      "application/vnd.jupyter.widget-view+json": {
       "model_id": "28a2aa80c0094207ae5b91ab1c213841",
       "version_major": 2,
       "version_minor": 0
      },
      "text/plain": [
       "0it [00:00, ?it/s]"
      ]
     },
     "metadata": {},
     "output_type": "display_data"
    },
    {
     "data": {
      "application/vnd.jupyter.widget-view+json": {
       "model_id": "c445feb40f2c4cb185b3cf125c98075d",
       "version_major": 2,
       "version_minor": 0
      },
      "text/plain": [
       "  0%|          | 0/8 [00:00<?, ?it/s]"
      ]
     },
     "metadata": {},
     "output_type": "display_data"
    },
    {
     "data": {
      "application/vnd.jupyter.widget-view+json": {
       "model_id": "d04cf19ec6c74c52ad80bb045de8a29b",
       "version_major": 2,
       "version_minor": 0
      },
      "text/plain": [
       "0it [00:00, ?it/s]"
      ]
     },
     "metadata": {},
     "output_type": "display_data"
    },
    {
     "data": {
      "application/vnd.jupyter.widget-view+json": {
       "model_id": "2054b96beb544d0eaae45e219c5ff104",
       "version_major": 2,
       "version_minor": 0
      },
      "text/plain": [
       "0it [00:00, ?it/s]"
      ]
     },
     "metadata": {},
     "output_type": "display_data"
    },
    {
     "data": {
      "application/vnd.jupyter.widget-view+json": {
       "model_id": "7b445ead011a4cd19e7bf7b9e19f5c90",
       "version_major": 2,
       "version_minor": 0
      },
      "text/plain": [
       "0it [00:00, ?it/s]"
      ]
     },
     "metadata": {},
     "output_type": "display_data"
    },
    {
     "data": {
      "application/vnd.jupyter.widget-view+json": {
       "model_id": "6ded3a9f30ac4926900069ff691457d0",
       "version_major": 2,
       "version_minor": 0
      },
      "text/plain": [
       "0it [00:00, ?it/s]"
      ]
     },
     "metadata": {},
     "output_type": "display_data"
    },
    {
     "data": {
      "application/vnd.jupyter.widget-view+json": {
       "model_id": "f659e419d29343668650cb947327de2f",
       "version_major": 2,
       "version_minor": 0
      },
      "text/plain": [
       "0it [00:00, ?it/s]"
      ]
     },
     "metadata": {},
     "output_type": "display_data"
    },
    {
     "data": {
      "application/vnd.jupyter.widget-view+json": {
       "model_id": "5ac178a8744a49749c7640e62545973f",
       "version_major": 2,
       "version_minor": 0
      },
      "text/plain": [
       "0it [00:00, ?it/s]"
      ]
     },
     "metadata": {},
     "output_type": "display_data"
    },
    {
     "data": {
      "application/vnd.jupyter.widget-view+json": {
       "model_id": "ac2fb52a15e84d2eafe97bc21e8327db",
       "version_major": 2,
       "version_minor": 0
      },
      "text/plain": [
       "0it [00:00, ?it/s]"
      ]
     },
     "metadata": {},
     "output_type": "display_data"
    },
    {
     "data": {
      "application/vnd.jupyter.widget-view+json": {
       "model_id": "f6b5c5e7e40f43c3a90fc33fa5d0c292",
       "version_major": 2,
       "version_minor": 0
      },
      "text/plain": [
       "0it [00:00, ?it/s]"
      ]
     },
     "metadata": {},
     "output_type": "display_data"
    },
    {
     "data": {
      "application/vnd.jupyter.widget-view+json": {
       "model_id": "b3c367290524490c9924e3d9dc62868a",
       "version_major": 2,
       "version_minor": 0
      },
      "text/plain": [
       "  0%|          | 0/8 [00:00<?, ?it/s]"
      ]
     },
     "metadata": {},
     "output_type": "display_data"
    },
    {
     "data": {
      "application/vnd.jupyter.widget-view+json": {
       "model_id": "ea9bd0cba5584eb5a6039eb6ce10498a",
       "version_major": 2,
       "version_minor": 0
      },
      "text/plain": [
       "0it [00:00, ?it/s]"
      ]
     },
     "metadata": {},
     "output_type": "display_data"
    },
    {
     "data": {
      "application/vnd.jupyter.widget-view+json": {
       "model_id": "3db254e551b74dcd9744f00b893a6ba0",
       "version_major": 2,
       "version_minor": 0
      },
      "text/plain": [
       "0it [00:00, ?it/s]"
      ]
     },
     "metadata": {},
     "output_type": "display_data"
    },
    {
     "data": {
      "application/vnd.jupyter.widget-view+json": {
       "model_id": "ce4ec5f3abd4410a9859314ce477c634",
       "version_major": 2,
       "version_minor": 0
      },
      "text/plain": [
       "0it [00:00, ?it/s]"
      ]
     },
     "metadata": {},
     "output_type": "display_data"
    },
    {
     "data": {
      "application/vnd.jupyter.widget-view+json": {
       "model_id": "0145a6c248c24f62b3ea34500be545c6",
       "version_major": 2,
       "version_minor": 0
      },
      "text/plain": [
       "0it [00:00, ?it/s]"
      ]
     },
     "metadata": {},
     "output_type": "display_data"
    },
    {
     "data": {
      "application/vnd.jupyter.widget-view+json": {
       "model_id": "8ecc5440c5994bb1a12998b5b707b10e",
       "version_major": 2,
       "version_minor": 0
      },
      "text/plain": [
       "0it [00:00, ?it/s]"
      ]
     },
     "metadata": {},
     "output_type": "display_data"
    },
    {
     "data": {
      "application/vnd.jupyter.widget-view+json": {
       "model_id": "9809b89b83b044bcba4cf91172b31021",
       "version_major": 2,
       "version_minor": 0
      },
      "text/plain": [
       "0it [00:00, ?it/s]"
      ]
     },
     "metadata": {},
     "output_type": "display_data"
    },
    {
     "data": {
      "application/vnd.jupyter.widget-view+json": {
       "model_id": "6d206a5591444f108ffede17fd7c771e",
       "version_major": 2,
       "version_minor": 0
      },
      "text/plain": [
       "0it [00:00, ?it/s]"
      ]
     },
     "metadata": {},
     "output_type": "display_data"
    },
    {
     "data": {
      "application/vnd.jupyter.widget-view+json": {
       "model_id": "c919520a52f44bab8917d35d1d65153a",
       "version_major": 2,
       "version_minor": 0
      },
      "text/plain": [
       "0it [00:00, ?it/s]"
      ]
     },
     "metadata": {},
     "output_type": "display_data"
    },
    {
     "data": {
      "application/vnd.jupyter.widget-view+json": {
       "model_id": "8db9f4d8deaf4115bd1c2f9189a3980e",
       "version_major": 2,
       "version_minor": 0
      },
      "text/plain": [
       "  0%|          | 0/8 [00:00<?, ?it/s]"
      ]
     },
     "metadata": {},
     "output_type": "display_data"
    },
    {
     "data": {
      "application/vnd.jupyter.widget-view+json": {
       "model_id": "fa16415d44dc42838b2af8155bd575a5",
       "version_major": 2,
       "version_minor": 0
      },
      "text/plain": [
       "0it [00:00, ?it/s]"
      ]
     },
     "metadata": {},
     "output_type": "display_data"
    },
    {
     "data": {
      "application/vnd.jupyter.widget-view+json": {
       "model_id": "c07c25b7d219463c9c4c438995edc35d",
       "version_major": 2,
       "version_minor": 0
      },
      "text/plain": [
       "0it [00:00, ?it/s]"
      ]
     },
     "metadata": {},
     "output_type": "display_data"
    },
    {
     "data": {
      "application/vnd.jupyter.widget-view+json": {
       "model_id": "b73fbdd9ff8b44088993d209eb562b29",
       "version_major": 2,
       "version_minor": 0
      },
      "text/plain": [
       "0it [00:00, ?it/s]"
      ]
     },
     "metadata": {},
     "output_type": "display_data"
    },
    {
     "data": {
      "application/vnd.jupyter.widget-view+json": {
       "model_id": "8af2e8cecb8243bfa66a62fcc912d529",
       "version_major": 2,
       "version_minor": 0
      },
      "text/plain": [
       "0it [00:00, ?it/s]"
      ]
     },
     "metadata": {},
     "output_type": "display_data"
    },
    {
     "data": {
      "application/vnd.jupyter.widget-view+json": {
       "model_id": "3291d39093be432bb687a75f2cb8f98c",
       "version_major": 2,
       "version_minor": 0
      },
      "text/plain": [
       "0it [00:00, ?it/s]"
      ]
     },
     "metadata": {},
     "output_type": "display_data"
    },
    {
     "data": {
      "application/vnd.jupyter.widget-view+json": {
       "model_id": "fcdf4bb55b2446a693932730e6feba7c",
       "version_major": 2,
       "version_minor": 0
      },
      "text/plain": [
       "0it [00:00, ?it/s]"
      ]
     },
     "metadata": {},
     "output_type": "display_data"
    },
    {
     "data": {
      "application/vnd.jupyter.widget-view+json": {
       "model_id": "0d30e0bc4df84045998859d8d8b48a16",
       "version_major": 2,
       "version_minor": 0
      },
      "text/plain": [
       "0it [00:00, ?it/s]"
      ]
     },
     "metadata": {},
     "output_type": "display_data"
    },
    {
     "data": {
      "application/vnd.jupyter.widget-view+json": {
       "model_id": "00bdf9f46613473e8fc683c0f7607ecb",
       "version_major": 2,
       "version_minor": 0
      },
      "text/plain": [
       "0it [00:00, ?it/s]"
      ]
     },
     "metadata": {},
     "output_type": "display_data"
    },
    {
     "data": {
      "application/vnd.jupyter.widget-view+json": {
       "model_id": "0130ba4879f14974b9213d9261d0b8f0",
       "version_major": 2,
       "version_minor": 0
      },
      "text/plain": [
       "  0%|          | 0/8 [00:00<?, ?it/s]"
      ]
     },
     "metadata": {},
     "output_type": "display_data"
    },
    {
     "data": {
      "application/vnd.jupyter.widget-view+json": {
       "model_id": "3e563f1956a94bf49fad7ce5e53e7e8b",
       "version_major": 2,
       "version_minor": 0
      },
      "text/plain": [
       "0it [00:00, ?it/s]"
      ]
     },
     "metadata": {},
     "output_type": "display_data"
    },
    {
     "data": {
      "application/vnd.jupyter.widget-view+json": {
       "model_id": "685e91e6738b4f37a78d873a50f5888d",
       "version_major": 2,
       "version_minor": 0
      },
      "text/plain": [
       "0it [00:00, ?it/s]"
      ]
     },
     "metadata": {},
     "output_type": "display_data"
    },
    {
     "data": {
      "application/vnd.jupyter.widget-view+json": {
       "model_id": "4b57d466ba9e4bc38f3879da79b97ec0",
       "version_major": 2,
       "version_minor": 0
      },
      "text/plain": [
       "0it [00:00, ?it/s]"
      ]
     },
     "metadata": {},
     "output_type": "display_data"
    },
    {
     "data": {
      "application/vnd.jupyter.widget-view+json": {
       "model_id": "80d9dcf601644683bfcec87b46c4e9b2",
       "version_major": 2,
       "version_minor": 0
      },
      "text/plain": [
       "0it [00:00, ?it/s]"
      ]
     },
     "metadata": {},
     "output_type": "display_data"
    },
    {
     "data": {
      "application/vnd.jupyter.widget-view+json": {
       "model_id": "94f8ea61e71a43b99b6f90fd9d65fe2e",
       "version_major": 2,
       "version_minor": 0
      },
      "text/plain": [
       "0it [00:00, ?it/s]"
      ]
     },
     "metadata": {},
     "output_type": "display_data"
    },
    {
     "data": {
      "application/vnd.jupyter.widget-view+json": {
       "model_id": "1300c229e2064e19adc4a048535cfd82",
       "version_major": 2,
       "version_minor": 0
      },
      "text/plain": [
       "0it [00:00, ?it/s]"
      ]
     },
     "metadata": {},
     "output_type": "display_data"
    },
    {
     "data": {
      "application/vnd.jupyter.widget-view+json": {
       "model_id": "de6338261f1d4f2b838834e245cec0a5",
       "version_major": 2,
       "version_minor": 0
      },
      "text/plain": [
       "0it [00:00, ?it/s]"
      ]
     },
     "metadata": {},
     "output_type": "display_data"
    },
    {
     "data": {
      "application/vnd.jupyter.widget-view+json": {
       "model_id": "52079bc181d64abbbe03d46535b35951",
       "version_major": 2,
       "version_minor": 0
      },
      "text/plain": [
       "0it [00:00, ?it/s]"
      ]
     },
     "metadata": {},
     "output_type": "display_data"
    },
    {
     "data": {
      "application/vnd.jupyter.widget-view+json": {
       "model_id": "e8b53c10875841adbdcf1c0648bee72c",
       "version_major": 2,
       "version_minor": 0
      },
      "text/plain": [
       "  0%|          | 0/8 [00:00<?, ?it/s]"
      ]
     },
     "metadata": {},
     "output_type": "display_data"
    },
    {
     "data": {
      "application/vnd.jupyter.widget-view+json": {
       "model_id": "acca17a5455b48d09ef4e230590022d6",
       "version_major": 2,
       "version_minor": 0
      },
      "text/plain": [
       "0it [00:00, ?it/s]"
      ]
     },
     "metadata": {},
     "output_type": "display_data"
    },
    {
     "data": {
      "application/vnd.jupyter.widget-view+json": {
       "model_id": "0469a08613264a30bd45385831d62a1c",
       "version_major": 2,
       "version_minor": 0
      },
      "text/plain": [
       "0it [00:00, ?it/s]"
      ]
     },
     "metadata": {},
     "output_type": "display_data"
    },
    {
     "data": {
      "application/vnd.jupyter.widget-view+json": {
       "model_id": "af7776d42d9b4bcbb24f992f5b4e6ae3",
       "version_major": 2,
       "version_minor": 0
      },
      "text/plain": [
       "0it [00:00, ?it/s]"
      ]
     },
     "metadata": {},
     "output_type": "display_data"
    },
    {
     "data": {
      "application/vnd.jupyter.widget-view+json": {
       "model_id": "0008c6e6a6104575989b08cc9408902e",
       "version_major": 2,
       "version_minor": 0
      },
      "text/plain": [
       "0it [00:00, ?it/s]"
      ]
     },
     "metadata": {},
     "output_type": "display_data"
    },
    {
     "data": {
      "application/vnd.jupyter.widget-view+json": {
       "model_id": "ded9537f4b3640b38c5e6a3992734f82",
       "version_major": 2,
       "version_minor": 0
      },
      "text/plain": [
       "0it [00:00, ?it/s]"
      ]
     },
     "metadata": {},
     "output_type": "display_data"
    },
    {
     "data": {
      "application/vnd.jupyter.widget-view+json": {
       "model_id": "393d2ec8df364c43a6216b5ffe19e908",
       "version_major": 2,
       "version_minor": 0
      },
      "text/plain": [
       "0it [00:00, ?it/s]"
      ]
     },
     "metadata": {},
     "output_type": "display_data"
    },
    {
     "data": {
      "application/vnd.jupyter.widget-view+json": {
       "model_id": "77af99e61aff4a09a4c48bf673aedf49",
       "version_major": 2,
       "version_minor": 0
      },
      "text/plain": [
       "0it [00:00, ?it/s]"
      ]
     },
     "metadata": {},
     "output_type": "display_data"
    },
    {
     "data": {
      "application/vnd.jupyter.widget-view+json": {
       "model_id": "9001c255a5984e2bad01e40574a73dff",
       "version_major": 2,
       "version_minor": 0
      },
      "text/plain": [
       "0it [00:00, ?it/s]"
      ]
     },
     "metadata": {},
     "output_type": "display_data"
    },
    {
     "data": {
      "application/vnd.jupyter.widget-view+json": {
       "model_id": "b10408e1fee545a3af2463e51ee55887",
       "version_major": 2,
       "version_minor": 0
      },
      "text/plain": [
       "  0%|          | 0/8 [00:00<?, ?it/s]"
      ]
     },
     "metadata": {},
     "output_type": "display_data"
    },
    {
     "data": {
      "application/vnd.jupyter.widget-view+json": {
       "model_id": "f6fea039f1d5449fa04ba6af90cd6af2",
       "version_major": 2,
       "version_minor": 0
      },
      "text/plain": [
       "0it [00:00, ?it/s]"
      ]
     },
     "metadata": {},
     "output_type": "display_data"
    },
    {
     "data": {
      "application/vnd.jupyter.widget-view+json": {
       "model_id": "b31ac1fb836745a4852e2d0a92a9ea9a",
       "version_major": 2,
       "version_minor": 0
      },
      "text/plain": [
       "0it [00:00, ?it/s]"
      ]
     },
     "metadata": {},
     "output_type": "display_data"
    },
    {
     "data": {
      "application/vnd.jupyter.widget-view+json": {
       "model_id": "b40af172915048b6baaeb9b7718b5565",
       "version_major": 2,
       "version_minor": 0
      },
      "text/plain": [
       "0it [00:00, ?it/s]"
      ]
     },
     "metadata": {},
     "output_type": "display_data"
    },
    {
     "data": {
      "application/vnd.jupyter.widget-view+json": {
       "model_id": "551ea9c039a54d9aad41ee9af59d7239",
       "version_major": 2,
       "version_minor": 0
      },
      "text/plain": [
       "0it [00:00, ?it/s]"
      ]
     },
     "metadata": {},
     "output_type": "display_data"
    },
    {
     "data": {
      "application/vnd.jupyter.widget-view+json": {
       "model_id": "ee2fc932c9b940e9b5ceb9b3418fd89a",
       "version_major": 2,
       "version_minor": 0
      },
      "text/plain": [
       "0it [00:00, ?it/s]"
      ]
     },
     "metadata": {},
     "output_type": "display_data"
    },
    {
     "data": {
      "application/vnd.jupyter.widget-view+json": {
       "model_id": "401432cbd87845c0bdc928b5bab45bab",
       "version_major": 2,
       "version_minor": 0
      },
      "text/plain": [
       "0it [00:00, ?it/s]"
      ]
     },
     "metadata": {},
     "output_type": "display_data"
    },
    {
     "data": {
      "application/vnd.jupyter.widget-view+json": {
       "model_id": "27d9bc93cf97471cb04f31db333c5af2",
       "version_major": 2,
       "version_minor": 0
      },
      "text/plain": [
       "0it [00:00, ?it/s]"
      ]
     },
     "metadata": {},
     "output_type": "display_data"
    },
    {
     "data": {
      "application/vnd.jupyter.widget-view+json": {
       "model_id": "8ee5e7b830ce4ceaaeb58964a63569ba",
       "version_major": 2,
       "version_minor": 0
      },
      "text/plain": [
       "0it [00:00, ?it/s]"
      ]
     },
     "metadata": {},
     "output_type": "display_data"
    },
    {
     "data": {
      "application/vnd.jupyter.widget-view+json": {
       "model_id": "a27d83a31ced4933a7df3730391e9fde",
       "version_major": 2,
       "version_minor": 0
      },
      "text/plain": [
       "  0%|          | 0/8 [00:00<?, ?it/s]"
      ]
     },
     "metadata": {},
     "output_type": "display_data"
    },
    {
     "data": {
      "application/vnd.jupyter.widget-view+json": {
       "model_id": "17a3eea6ef84498aa7cae5623ca5506c",
       "version_major": 2,
       "version_minor": 0
      },
      "text/plain": [
       "0it [00:00, ?it/s]"
      ]
     },
     "metadata": {},
     "output_type": "display_data"
    },
    {
     "data": {
      "application/vnd.jupyter.widget-view+json": {
       "model_id": "357370d9a45545329b486bea7be29208",
       "version_major": 2,
       "version_minor": 0
      },
      "text/plain": [
       "0it [00:00, ?it/s]"
      ]
     },
     "metadata": {},
     "output_type": "display_data"
    },
    {
     "data": {
      "application/vnd.jupyter.widget-view+json": {
       "model_id": "abf83effc4a9448a9c1e0bb0f007e436",
       "version_major": 2,
       "version_minor": 0
      },
      "text/plain": [
       "0it [00:00, ?it/s]"
      ]
     },
     "metadata": {},
     "output_type": "display_data"
    },
    {
     "data": {
      "application/vnd.jupyter.widget-view+json": {
       "model_id": "7bc6d7f7e6aa45ac9ea403061529aa87",
       "version_major": 2,
       "version_minor": 0
      },
      "text/plain": [
       "0it [00:00, ?it/s]"
      ]
     },
     "metadata": {},
     "output_type": "display_data"
    },
    {
     "data": {
      "application/vnd.jupyter.widget-view+json": {
       "model_id": "b7f79d2211964e06839be338b1b90f5a",
       "version_major": 2,
       "version_minor": 0
      },
      "text/plain": [
       "0it [00:00, ?it/s]"
      ]
     },
     "metadata": {},
     "output_type": "display_data"
    },
    {
     "data": {
      "application/vnd.jupyter.widget-view+json": {
       "model_id": "280b0dceb714465db8abb6c36acc0cc0",
       "version_major": 2,
       "version_minor": 0
      },
      "text/plain": [
       "0it [00:00, ?it/s]"
      ]
     },
     "metadata": {},
     "output_type": "display_data"
    },
    {
     "data": {
      "application/vnd.jupyter.widget-view+json": {
       "model_id": "6c9215b9a3be4bb4a30bcfc58d9bbe81",
       "version_major": 2,
       "version_minor": 0
      },
      "text/plain": [
       "0it [00:00, ?it/s]"
      ]
     },
     "metadata": {},
     "output_type": "display_data"
    },
    {
     "data": {
      "application/vnd.jupyter.widget-view+json": {
       "model_id": "127cc36f7cd54448b1af20a6e081b9ed",
       "version_major": 2,
       "version_minor": 0
      },
      "text/plain": [
       "0it [00:00, ?it/s]"
      ]
     },
     "metadata": {},
     "output_type": "display_data"
    },
    {
     "data": {
      "application/vnd.jupyter.widget-view+json": {
       "model_id": "2ff96776520b4e57811f8722efae7b52",
       "version_major": 2,
       "version_minor": 0
      },
      "text/plain": [
       "  0%|          | 0/8 [00:00<?, ?it/s]"
      ]
     },
     "metadata": {},
     "output_type": "display_data"
    },
    {
     "data": {
      "application/vnd.jupyter.widget-view+json": {
       "model_id": "4e07def5e6cf4869ad6c15f30f2b7379",
       "version_major": 2,
       "version_minor": 0
      },
      "text/plain": [
       "0it [00:00, ?it/s]"
      ]
     },
     "metadata": {},
     "output_type": "display_data"
    },
    {
     "data": {
      "application/vnd.jupyter.widget-view+json": {
       "model_id": "73b5243c705d42d3bc6b31e13ebfb478",
       "version_major": 2,
       "version_minor": 0
      },
      "text/plain": [
       "0it [00:00, ?it/s]"
      ]
     },
     "metadata": {},
     "output_type": "display_data"
    },
    {
     "data": {
      "application/vnd.jupyter.widget-view+json": {
       "model_id": "1c680fa9d826415698313d3a24218066",
       "version_major": 2,
       "version_minor": 0
      },
      "text/plain": [
       "0it [00:00, ?it/s]"
      ]
     },
     "metadata": {},
     "output_type": "display_data"
    },
    {
     "data": {
      "application/vnd.jupyter.widget-view+json": {
       "model_id": "a5c0f224de3d42cba2387ddb945250e8",
       "version_major": 2,
       "version_minor": 0
      },
      "text/plain": [
       "0it [00:00, ?it/s]"
      ]
     },
     "metadata": {},
     "output_type": "display_data"
    },
    {
     "data": {
      "application/vnd.jupyter.widget-view+json": {
       "model_id": "71afe5de59e74b9a956644dd2ae7b766",
       "version_major": 2,
       "version_minor": 0
      },
      "text/plain": [
       "0it [00:00, ?it/s]"
      ]
     },
     "metadata": {},
     "output_type": "display_data"
    },
    {
     "data": {
      "application/vnd.jupyter.widget-view+json": {
       "model_id": "4af340e31d874654a48f63cf1aadf881",
       "version_major": 2,
       "version_minor": 0
      },
      "text/plain": [
       "0it [00:00, ?it/s]"
      ]
     },
     "metadata": {},
     "output_type": "display_data"
    },
    {
     "data": {
      "application/vnd.jupyter.widget-view+json": {
       "model_id": "361298d231234b598828453c7616658b",
       "version_major": 2,
       "version_minor": 0
      },
      "text/plain": [
       "0it [00:00, ?it/s]"
      ]
     },
     "metadata": {},
     "output_type": "display_data"
    },
    {
     "data": {
      "application/vnd.jupyter.widget-view+json": {
       "model_id": "3a794e3bc14a4b24895da813278c7526",
       "version_major": 2,
       "version_minor": 0
      },
      "text/plain": [
       "0it [00:00, ?it/s]"
      ]
     },
     "metadata": {},
     "output_type": "display_data"
    },
    {
     "data": {
      "application/vnd.jupyter.widget-view+json": {
       "model_id": "1aa4b43644a1464ebac0755f9b1e2474",
       "version_major": 2,
       "version_minor": 0
      },
      "text/plain": [
       "  0%|          | 0/8 [00:00<?, ?it/s]"
      ]
     },
     "metadata": {},
     "output_type": "display_data"
    },
    {
     "data": {
      "application/vnd.jupyter.widget-view+json": {
       "model_id": "1896e89662a846219994481183c5a444",
       "version_major": 2,
       "version_minor": 0
      },
      "text/plain": [
       "0it [00:00, ?it/s]"
      ]
     },
     "metadata": {},
     "output_type": "display_data"
    },
    {
     "data": {
      "application/vnd.jupyter.widget-view+json": {
       "model_id": "71c8b0c55b51499d9a295f1b973402f9",
       "version_major": 2,
       "version_minor": 0
      },
      "text/plain": [
       "0it [00:00, ?it/s]"
      ]
     },
     "metadata": {},
     "output_type": "display_data"
    },
    {
     "data": {
      "application/vnd.jupyter.widget-view+json": {
       "model_id": "3845264fb5384c17a6f1991b75e12dce",
       "version_major": 2,
       "version_minor": 0
      },
      "text/plain": [
       "0it [00:00, ?it/s]"
      ]
     },
     "metadata": {},
     "output_type": "display_data"
    },
    {
     "data": {
      "application/vnd.jupyter.widget-view+json": {
       "model_id": "1b258853901544d39bff5a8abcb4bc3b",
       "version_major": 2,
       "version_minor": 0
      },
      "text/plain": [
       "0it [00:00, ?it/s]"
      ]
     },
     "metadata": {},
     "output_type": "display_data"
    },
    {
     "data": {
      "application/vnd.jupyter.widget-view+json": {
       "model_id": "22abeb1c4b3e4e2c961277a32ac0867a",
       "version_major": 2,
       "version_minor": 0
      },
      "text/plain": [
       "0it [00:00, ?it/s]"
      ]
     },
     "metadata": {},
     "output_type": "display_data"
    },
    {
     "data": {
      "application/vnd.jupyter.widget-view+json": {
       "model_id": "163e0668de074822bb98d8f6774ad69c",
       "version_major": 2,
       "version_minor": 0
      },
      "text/plain": [
       "0it [00:00, ?it/s]"
      ]
     },
     "metadata": {},
     "output_type": "display_data"
    },
    {
     "data": {
      "application/vnd.jupyter.widget-view+json": {
       "model_id": "1af422fcdd2a4dd8b180d0e001e99838",
       "version_major": 2,
       "version_minor": 0
      },
      "text/plain": [
       "0it [00:00, ?it/s]"
      ]
     },
     "metadata": {},
     "output_type": "display_data"
    },
    {
     "data": {
      "application/vnd.jupyter.widget-view+json": {
       "model_id": "4e74b9642f6343e0a33caa054a2415d8",
       "version_major": 2,
       "version_minor": 0
      },
      "text/plain": [
       "0it [00:00, ?it/s]"
      ]
     },
     "metadata": {},
     "output_type": "display_data"
    },
    {
     "data": {
      "application/vnd.jupyter.widget-view+json": {
       "model_id": "1ce7f0c5fecc4e8fa92220561d048cf3",
       "version_major": 2,
       "version_minor": 0
      },
      "text/plain": [
       "  0%|          | 0/8 [00:00<?, ?it/s]"
      ]
     },
     "metadata": {},
     "output_type": "display_data"
    },
    {
     "data": {
      "application/vnd.jupyter.widget-view+json": {
       "model_id": "cf1e197e4072412cb211eca784192165",
       "version_major": 2,
       "version_minor": 0
      },
      "text/plain": [
       "0it [00:00, ?it/s]"
      ]
     },
     "metadata": {},
     "output_type": "display_data"
    },
    {
     "data": {
      "application/vnd.jupyter.widget-view+json": {
       "model_id": "b738895263f94e14bddf5bfbbc5a23b3",
       "version_major": 2,
       "version_minor": 0
      },
      "text/plain": [
       "0it [00:00, ?it/s]"
      ]
     },
     "metadata": {},
     "output_type": "display_data"
    },
    {
     "data": {
      "application/vnd.jupyter.widget-view+json": {
       "model_id": "3663e3c4a46146f2b0fbaca7d0061013",
       "version_major": 2,
       "version_minor": 0
      },
      "text/plain": [
       "0it [00:00, ?it/s]"
      ]
     },
     "metadata": {},
     "output_type": "display_data"
    },
    {
     "data": {
      "application/vnd.jupyter.widget-view+json": {
       "model_id": "a6ee9d70ae9a443dbb0ff729070cedfd",
       "version_major": 2,
       "version_minor": 0
      },
      "text/plain": [
       "0it [00:00, ?it/s]"
      ]
     },
     "metadata": {},
     "output_type": "display_data"
    },
    {
     "data": {
      "application/vnd.jupyter.widget-view+json": {
       "model_id": "833001218d884151b2f370493f53e1dc",
       "version_major": 2,
       "version_minor": 0
      },
      "text/plain": [
       "0it [00:00, ?it/s]"
      ]
     },
     "metadata": {},
     "output_type": "display_data"
    },
    {
     "data": {
      "application/vnd.jupyter.widget-view+json": {
       "model_id": "edaf8586796340209a8e1cf4de57f127",
       "version_major": 2,
       "version_minor": 0
      },
      "text/plain": [
       "0it [00:00, ?it/s]"
      ]
     },
     "metadata": {},
     "output_type": "display_data"
    },
    {
     "data": {
      "application/vnd.jupyter.widget-view+json": {
       "model_id": "854d3f5fdc644563945cf39c2d3b69a2",
       "version_major": 2,
       "version_minor": 0
      },
      "text/plain": [
       "0it [00:00, ?it/s]"
      ]
     },
     "metadata": {},
     "output_type": "display_data"
    },
    {
     "data": {
      "application/vnd.jupyter.widget-view+json": {
       "model_id": "94d113509feb48aa96fbe61ee7f33b39",
       "version_major": 2,
       "version_minor": 0
      },
      "text/plain": [
       "0it [00:00, ?it/s]"
      ]
     },
     "metadata": {},
     "output_type": "display_data"
    },
    {
     "data": {
      "application/vnd.jupyter.widget-view+json": {
       "model_id": "bc33603215fe4806adacf47dbb34a133",
       "version_major": 2,
       "version_minor": 0
      },
      "text/plain": [
       "  0%|          | 0/8 [00:00<?, ?it/s]"
      ]
     },
     "metadata": {},
     "output_type": "display_data"
    },
    {
     "data": {
      "application/vnd.jupyter.widget-view+json": {
       "model_id": "593ed84f1d034d9b837f8ab9a4317fac",
       "version_major": 2,
       "version_minor": 0
      },
      "text/plain": [
       "0it [00:00, ?it/s]"
      ]
     },
     "metadata": {},
     "output_type": "display_data"
    },
    {
     "data": {
      "application/vnd.jupyter.widget-view+json": {
       "model_id": "2108e22e460942eea2814fc78658e068",
       "version_major": 2,
       "version_minor": 0
      },
      "text/plain": [
       "0it [00:00, ?it/s]"
      ]
     },
     "metadata": {},
     "output_type": "display_data"
    },
    {
     "data": {
      "application/vnd.jupyter.widget-view+json": {
       "model_id": "6c1162324eba4ba9807f33d50fa60af0",
       "version_major": 2,
       "version_minor": 0
      },
      "text/plain": [
       "0it [00:00, ?it/s]"
      ]
     },
     "metadata": {},
     "output_type": "display_data"
    },
    {
     "data": {
      "application/vnd.jupyter.widget-view+json": {
       "model_id": "6246ecdecec2458ba42132957068434a",
       "version_major": 2,
       "version_minor": 0
      },
      "text/plain": [
       "0it [00:00, ?it/s]"
      ]
     },
     "metadata": {},
     "output_type": "display_data"
    },
    {
     "data": {
      "application/vnd.jupyter.widget-view+json": {
       "model_id": "a04ff6f7cffe499688e65d0ad1a4c6de",
       "version_major": 2,
       "version_minor": 0
      },
      "text/plain": [
       "0it [00:00, ?it/s]"
      ]
     },
     "metadata": {},
     "output_type": "display_data"
    },
    {
     "data": {
      "application/vnd.jupyter.widget-view+json": {
       "model_id": "a6a7a10b92b44411909e2d91ae9f20f7",
       "version_major": 2,
       "version_minor": 0
      },
      "text/plain": [
       "0it [00:00, ?it/s]"
      ]
     },
     "metadata": {},
     "output_type": "display_data"
    },
    {
     "data": {
      "application/vnd.jupyter.widget-view+json": {
       "model_id": "ae259ee2c97d462286108ec4d92ff749",
       "version_major": 2,
       "version_minor": 0
      },
      "text/plain": [
       "0it [00:00, ?it/s]"
      ]
     },
     "metadata": {},
     "output_type": "display_data"
    },
    {
     "data": {
      "application/vnd.jupyter.widget-view+json": {
       "model_id": "dee57aef9cb04368b0bfa056c7546f4b",
       "version_major": 2,
       "version_minor": 0
      },
      "text/plain": [
       "0it [00:00, ?it/s]"
      ]
     },
     "metadata": {},
     "output_type": "display_data"
    },
    {
     "data": {
      "application/vnd.jupyter.widget-view+json": {
       "model_id": "06592859b8fb4bd08b2255b4063ebd85",
       "version_major": 2,
       "version_minor": 0
      },
      "text/plain": [
       "  0%|          | 0/8 [00:00<?, ?it/s]"
      ]
     },
     "metadata": {},
     "output_type": "display_data"
    },
    {
     "data": {
      "application/vnd.jupyter.widget-view+json": {
       "model_id": "3caa756c70ae49d19449f4b0e205e424",
       "version_major": 2,
       "version_minor": 0
      },
      "text/plain": [
       "0it [00:00, ?it/s]"
      ]
     },
     "metadata": {},
     "output_type": "display_data"
    },
    {
     "data": {
      "application/vnd.jupyter.widget-view+json": {
       "model_id": "79db67a4898e4e4d9b81f4106e087da4",
       "version_major": 2,
       "version_minor": 0
      },
      "text/plain": [
       "0it [00:00, ?it/s]"
      ]
     },
     "metadata": {},
     "output_type": "display_data"
    },
    {
     "data": {
      "application/vnd.jupyter.widget-view+json": {
       "model_id": "5e2b9c3e498342899b98e0161c5c4b05",
       "version_major": 2,
       "version_minor": 0
      },
      "text/plain": [
       "0it [00:00, ?it/s]"
      ]
     },
     "metadata": {},
     "output_type": "display_data"
    },
    {
     "data": {
      "application/vnd.jupyter.widget-view+json": {
       "model_id": "b1d87cc62d934320aad74e81d57c2a13",
       "version_major": 2,
       "version_minor": 0
      },
      "text/plain": [
       "0it [00:00, ?it/s]"
      ]
     },
     "metadata": {},
     "output_type": "display_data"
    },
    {
     "data": {
      "application/vnd.jupyter.widget-view+json": {
       "model_id": "e3f03ae979244f8ea3ada18bf6664237",
       "version_major": 2,
       "version_minor": 0
      },
      "text/plain": [
       "0it [00:00, ?it/s]"
      ]
     },
     "metadata": {},
     "output_type": "display_data"
    },
    {
     "data": {
      "application/vnd.jupyter.widget-view+json": {
       "model_id": "aba8275b92cc489585f6ba1bf2e26393",
       "version_major": 2,
       "version_minor": 0
      },
      "text/plain": [
       "0it [00:00, ?it/s]"
      ]
     },
     "metadata": {},
     "output_type": "display_data"
    },
    {
     "data": {
      "application/vnd.jupyter.widget-view+json": {
       "model_id": "c4fefa86885847eb9dd04982f0983e38",
       "version_major": 2,
       "version_minor": 0
      },
      "text/plain": [
       "0it [00:00, ?it/s]"
      ]
     },
     "metadata": {},
     "output_type": "display_data"
    },
    {
     "data": {
      "application/vnd.jupyter.widget-view+json": {
       "model_id": "f3106bb90ce040b99a2a71a527dadb0f",
       "version_major": 2,
       "version_minor": 0
      },
      "text/plain": [
       "0it [00:00, ?it/s]"
      ]
     },
     "metadata": {},
     "output_type": "display_data"
    },
    {
     "data": {
      "application/vnd.jupyter.widget-view+json": {
       "model_id": "9aa6099485424f44974f34d4b758ad83",
       "version_major": 2,
       "version_minor": 0
      },
      "text/plain": [
       "  0%|          | 0/8 [00:00<?, ?it/s]"
      ]
     },
     "metadata": {},
     "output_type": "display_data"
    },
    {
     "data": {
      "application/vnd.jupyter.widget-view+json": {
       "model_id": "fc4b24a3ff3e402b96a86f029818e667",
       "version_major": 2,
       "version_minor": 0
      },
      "text/plain": [
       "0it [00:00, ?it/s]"
      ]
     },
     "metadata": {},
     "output_type": "display_data"
    },
    {
     "data": {
      "application/vnd.jupyter.widget-view+json": {
       "model_id": "94e913d59e75443a9e4975c6870ad63e",
       "version_major": 2,
       "version_minor": 0
      },
      "text/plain": [
       "0it [00:00, ?it/s]"
      ]
     },
     "metadata": {},
     "output_type": "display_data"
    },
    {
     "data": {
      "application/vnd.jupyter.widget-view+json": {
       "model_id": "6ee74d5883034a8787232bfb02338093",
       "version_major": 2,
       "version_minor": 0
      },
      "text/plain": [
       "0it [00:00, ?it/s]"
      ]
     },
     "metadata": {},
     "output_type": "display_data"
    },
    {
     "data": {
      "application/vnd.jupyter.widget-view+json": {
       "model_id": "c5d739a936d64566afc2be0dd290ef5b",
       "version_major": 2,
       "version_minor": 0
      },
      "text/plain": [
       "0it [00:00, ?it/s]"
      ]
     },
     "metadata": {},
     "output_type": "display_data"
    },
    {
     "data": {
      "application/vnd.jupyter.widget-view+json": {
       "model_id": "d87f7453ce2e48c7807d9bc53a8c15c2",
       "version_major": 2,
       "version_minor": 0
      },
      "text/plain": [
       "0it [00:00, ?it/s]"
      ]
     },
     "metadata": {},
     "output_type": "display_data"
    },
    {
     "data": {
      "application/vnd.jupyter.widget-view+json": {
       "model_id": "fbeb7490980841c79b8c9c70f18cc6ab",
       "version_major": 2,
       "version_minor": 0
      },
      "text/plain": [
       "0it [00:00, ?it/s]"
      ]
     },
     "metadata": {},
     "output_type": "display_data"
    },
    {
     "data": {
      "application/vnd.jupyter.widget-view+json": {
       "model_id": "e2bd8861f0d94d05827bd6d72587f179",
       "version_major": 2,
       "version_minor": 0
      },
      "text/plain": [
       "0it [00:00, ?it/s]"
      ]
     },
     "metadata": {},
     "output_type": "display_data"
    },
    {
     "data": {
      "application/vnd.jupyter.widget-view+json": {
       "model_id": "15b184b1240c4724bb202e6358c32015",
       "version_major": 2,
       "version_minor": 0
      },
      "text/plain": [
       "0it [00:00, ?it/s]"
      ]
     },
     "metadata": {},
     "output_type": "display_data"
    },
    {
     "data": {
      "application/vnd.jupyter.widget-view+json": {
       "model_id": "b6328d54341545329562042c82eb43d2",
       "version_major": 2,
       "version_minor": 0
      },
      "text/plain": [
       "  0%|          | 0/8 [00:00<?, ?it/s]"
      ]
     },
     "metadata": {},
     "output_type": "display_data"
    },
    {
     "data": {
      "application/vnd.jupyter.widget-view+json": {
       "model_id": "712a559fdcbb468a8bfe269c96e25bb8",
       "version_major": 2,
       "version_minor": 0
      },
      "text/plain": [
       "0it [00:00, ?it/s]"
      ]
     },
     "metadata": {},
     "output_type": "display_data"
    },
    {
     "data": {
      "application/vnd.jupyter.widget-view+json": {
       "model_id": "4f970dff150d4f058c963c3c747b7f2a",
       "version_major": 2,
       "version_minor": 0
      },
      "text/plain": [
       "0it [00:00, ?it/s]"
      ]
     },
     "metadata": {},
     "output_type": "display_data"
    },
    {
     "data": {
      "application/vnd.jupyter.widget-view+json": {
       "model_id": "29700792678c423fa64d887e3a5f25bd",
       "version_major": 2,
       "version_minor": 0
      },
      "text/plain": [
       "0it [00:00, ?it/s]"
      ]
     },
     "metadata": {},
     "output_type": "display_data"
    },
    {
     "data": {
      "application/vnd.jupyter.widget-view+json": {
       "model_id": "8c7eb6e74c4b439f8d4d3cd628f9b820",
       "version_major": 2,
       "version_minor": 0
      },
      "text/plain": [
       "0it [00:00, ?it/s]"
      ]
     },
     "metadata": {},
     "output_type": "display_data"
    },
    {
     "data": {
      "application/vnd.jupyter.widget-view+json": {
       "model_id": "4374b9354e244961838148444346a6a1",
       "version_major": 2,
       "version_minor": 0
      },
      "text/plain": [
       "0it [00:00, ?it/s]"
      ]
     },
     "metadata": {},
     "output_type": "display_data"
    },
    {
     "data": {
      "application/vnd.jupyter.widget-view+json": {
       "model_id": "b6b00c0371e54d32bb413e2a23080d70",
       "version_major": 2,
       "version_minor": 0
      },
      "text/plain": [
       "0it [00:00, ?it/s]"
      ]
     },
     "metadata": {},
     "output_type": "display_data"
    },
    {
     "data": {
      "application/vnd.jupyter.widget-view+json": {
       "model_id": "317ae63d1eca403a89560b92e08ec75b",
       "version_major": 2,
       "version_minor": 0
      },
      "text/plain": [
       "0it [00:00, ?it/s]"
      ]
     },
     "metadata": {},
     "output_type": "display_data"
    },
    {
     "data": {
      "application/vnd.jupyter.widget-view+json": {
       "model_id": "32521bfbb2da49389ab67557f5d35196",
       "version_major": 2,
       "version_minor": 0
      },
      "text/plain": [
       "0it [00:00, ?it/s]"
      ]
     },
     "metadata": {},
     "output_type": "display_data"
    }
   ],
   "source": [
    "rows = []\n",
    "n = 8\n",
    "for seed in range(1, 21):\n",
    "    row = {}\n",
    "    row['instance']=\"n8_m2_s%d\" % seed\n",
    "    filename = 'sims_tau_n8_ground_truth/' + row['instance'] + '.tsv'\n",
    "    for ell in tqdm(range(1,n+1)):\n",
    "        row['ell_%d' % ell] = determine_min_backbone_trees(GT_trees_per_filename[filename], n, ell)\n",
    "    rows.append(row)\n",
    "df_ground_truth_tau = pd.DataFrame(rows)\n",
    "df_ground_truth_tau.set_index('instance', inplace=True)"
   ]
  },
  {
   "cell_type": "code",
   "execution_count": 148,
   "id": "77ee3f20-d930-4781-ab70-50d4dbeb3fa4",
   "metadata": {},
   "outputs": [
    {
     "data": {
      "text/html": [
       "<div>\n",
       "<style scoped>\n",
       "    .dataframe tbody tr th:only-of-type {\n",
       "        vertical-align: middle;\n",
       "    }\n",
       "\n",
       "    .dataframe tbody tr th {\n",
       "        vertical-align: top;\n",
       "    }\n",
       "\n",
       "    .dataframe thead th {\n",
       "        text-align: right;\n",
       "    }\n",
       "</style>\n",
       "<table border=\"1\" class=\"dataframe\">\n",
       "  <thead>\n",
       "    <tr style=\"text-align: right;\">\n",
       "      <th></th>\n",
       "      <th>ell_1</th>\n",
       "      <th>ell_2</th>\n",
       "      <th>ell_3</th>\n",
       "      <th>ell_4</th>\n",
       "      <th>ell_5</th>\n",
       "      <th>ell_6</th>\n",
       "      <th>ell_7</th>\n",
       "      <th>ell_8</th>\n",
       "    </tr>\n",
       "    <tr>\n",
       "      <th>instance</th>\n",
       "      <th></th>\n",
       "      <th></th>\n",
       "      <th></th>\n",
       "      <th></th>\n",
       "      <th></th>\n",
       "      <th></th>\n",
       "      <th></th>\n",
       "      <th></th>\n",
       "    </tr>\n",
       "  </thead>\n",
       "  <tbody>\n",
       "    <tr>\n",
       "      <th>n8_m2_s1</th>\n",
       "      <td>1</td>\n",
       "      <td>1</td>\n",
       "      <td>1</td>\n",
       "      <td>1</td>\n",
       "      <td>1</td>\n",
       "      <td>1</td>\n",
       "      <td>1</td>\n",
       "      <td>3</td>\n",
       "    </tr>\n",
       "    <tr>\n",
       "      <th>n8_m2_s2</th>\n",
       "      <td>1</td>\n",
       "      <td>1</td>\n",
       "      <td>1</td>\n",
       "      <td>1</td>\n",
       "      <td>2</td>\n",
       "      <td>9</td>\n",
       "      <td>88</td>\n",
       "      <td>286</td>\n",
       "    </tr>\n",
       "    <tr>\n",
       "      <th>n8_m2_s3</th>\n",
       "      <td>1</td>\n",
       "      <td>1</td>\n",
       "      <td>1</td>\n",
       "      <td>1</td>\n",
       "      <td>2</td>\n",
       "      <td>15</td>\n",
       "      <td>75</td>\n",
       "      <td>310</td>\n",
       "    </tr>\n",
       "    <tr>\n",
       "      <th>n8_m2_s4</th>\n",
       "      <td>1</td>\n",
       "      <td>1</td>\n",
       "      <td>1</td>\n",
       "      <td>1</td>\n",
       "      <td>2</td>\n",
       "      <td>8</td>\n",
       "      <td>28</td>\n",
       "      <td>130</td>\n",
       "    </tr>\n",
       "    <tr>\n",
       "      <th>n8_m2_s5</th>\n",
       "      <td>1</td>\n",
       "      <td>1</td>\n",
       "      <td>1</td>\n",
       "      <td>1</td>\n",
       "      <td>1</td>\n",
       "      <td>4</td>\n",
       "      <td>24</td>\n",
       "      <td>168</td>\n",
       "    </tr>\n",
       "    <tr>\n",
       "      <th>n8_m2_s6</th>\n",
       "      <td>1</td>\n",
       "      <td>1</td>\n",
       "      <td>1</td>\n",
       "      <td>1</td>\n",
       "      <td>2</td>\n",
       "      <td>7</td>\n",
       "      <td>18</td>\n",
       "      <td>56</td>\n",
       "    </tr>\n",
       "    <tr>\n",
       "      <th>n8_m2_s7</th>\n",
       "      <td>1</td>\n",
       "      <td>1</td>\n",
       "      <td>1</td>\n",
       "      <td>1</td>\n",
       "      <td>2</td>\n",
       "      <td>6</td>\n",
       "      <td>22</td>\n",
       "      <td>104</td>\n",
       "    </tr>\n",
       "    <tr>\n",
       "      <th>n8_m2_s8</th>\n",
       "      <td>1</td>\n",
       "      <td>1</td>\n",
       "      <td>1</td>\n",
       "      <td>1</td>\n",
       "      <td>1</td>\n",
       "      <td>1</td>\n",
       "      <td>1</td>\n",
       "      <td>7</td>\n",
       "    </tr>\n",
       "    <tr>\n",
       "      <th>n8_m2_s9</th>\n",
       "      <td>1</td>\n",
       "      <td>1</td>\n",
       "      <td>1</td>\n",
       "      <td>1</td>\n",
       "      <td>1</td>\n",
       "      <td>2</td>\n",
       "      <td>8</td>\n",
       "      <td>43</td>\n",
       "    </tr>\n",
       "    <tr>\n",
       "      <th>n8_m2_s10</th>\n",
       "      <td>1</td>\n",
       "      <td>1</td>\n",
       "      <td>1</td>\n",
       "      <td>2</td>\n",
       "      <td>3</td>\n",
       "      <td>7</td>\n",
       "      <td>15</td>\n",
       "      <td>57</td>\n",
       "    </tr>\n",
       "    <tr>\n",
       "      <th>n8_m2_s11</th>\n",
       "      <td>1</td>\n",
       "      <td>1</td>\n",
       "      <td>1</td>\n",
       "      <td>1</td>\n",
       "      <td>2</td>\n",
       "      <td>4</td>\n",
       "      <td>8</td>\n",
       "      <td>28</td>\n",
       "    </tr>\n",
       "    <tr>\n",
       "      <th>n8_m2_s12</th>\n",
       "      <td>1</td>\n",
       "      <td>1</td>\n",
       "      <td>1</td>\n",
       "      <td>2</td>\n",
       "      <td>7</td>\n",
       "      <td>27</td>\n",
       "      <td>123</td>\n",
       "      <td>861</td>\n",
       "    </tr>\n",
       "    <tr>\n",
       "      <th>n8_m2_s13</th>\n",
       "      <td>1</td>\n",
       "      <td>1</td>\n",
       "      <td>1</td>\n",
       "      <td>1</td>\n",
       "      <td>3</td>\n",
       "      <td>8</td>\n",
       "      <td>40</td>\n",
       "      <td>276</td>\n",
       "    </tr>\n",
       "    <tr>\n",
       "      <th>n8_m2_s14</th>\n",
       "      <td>1</td>\n",
       "      <td>1</td>\n",
       "      <td>1</td>\n",
       "      <td>1</td>\n",
       "      <td>1</td>\n",
       "      <td>1</td>\n",
       "      <td>1</td>\n",
       "      <td>4</td>\n",
       "    </tr>\n",
       "    <tr>\n",
       "      <th>n8_m2_s15</th>\n",
       "      <td>1</td>\n",
       "      <td>1</td>\n",
       "      <td>1</td>\n",
       "      <td>1</td>\n",
       "      <td>1</td>\n",
       "      <td>1</td>\n",
       "      <td>6</td>\n",
       "      <td>42</td>\n",
       "    </tr>\n",
       "    <tr>\n",
       "      <th>n8_m2_s16</th>\n",
       "      <td>1</td>\n",
       "      <td>1</td>\n",
       "      <td>1</td>\n",
       "      <td>1</td>\n",
       "      <td>2</td>\n",
       "      <td>5</td>\n",
       "      <td>13</td>\n",
       "      <td>68</td>\n",
       "    </tr>\n",
       "    <tr>\n",
       "      <th>n8_m2_s17</th>\n",
       "      <td>1</td>\n",
       "      <td>1</td>\n",
       "      <td>1</td>\n",
       "      <td>2</td>\n",
       "      <td>4</td>\n",
       "      <td>9</td>\n",
       "      <td>28</td>\n",
       "      <td>104</td>\n",
       "    </tr>\n",
       "    <tr>\n",
       "      <th>n8_m2_s18</th>\n",
       "      <td>1</td>\n",
       "      <td>1</td>\n",
       "      <td>1</td>\n",
       "      <td>1</td>\n",
       "      <td>1</td>\n",
       "      <td>1</td>\n",
       "      <td>2</td>\n",
       "      <td>4</td>\n",
       "    </tr>\n",
       "    <tr>\n",
       "      <th>n8_m2_s19</th>\n",
       "      <td>1</td>\n",
       "      <td>1</td>\n",
       "      <td>1</td>\n",
       "      <td>1</td>\n",
       "      <td>1</td>\n",
       "      <td>4</td>\n",
       "      <td>18</td>\n",
       "      <td>84</td>\n",
       "    </tr>\n",
       "    <tr>\n",
       "      <th>n8_m2_s20</th>\n",
       "      <td>1</td>\n",
       "      <td>1</td>\n",
       "      <td>1</td>\n",
       "      <td>1</td>\n",
       "      <td>1</td>\n",
       "      <td>1</td>\n",
       "      <td>3</td>\n",
       "      <td>12</td>\n",
       "    </tr>\n",
       "  </tbody>\n",
       "</table>\n",
       "</div>"
      ],
      "text/plain": [
       "           ell_1  ell_2  ell_3  ell_4  ell_5  ell_6  ell_7  ell_8\n",
       "instance                                                         \n",
       "n8_m2_s1       1      1      1      1      1      1      1      3\n",
       "n8_m2_s2       1      1      1      1      2      9     88    286\n",
       "n8_m2_s3       1      1      1      1      2     15     75    310\n",
       "n8_m2_s4       1      1      1      1      2      8     28    130\n",
       "n8_m2_s5       1      1      1      1      1      4     24    168\n",
       "n8_m2_s6       1      1      1      1      2      7     18     56\n",
       "n8_m2_s7       1      1      1      1      2      6     22    104\n",
       "n8_m2_s8       1      1      1      1      1      1      1      7\n",
       "n8_m2_s9       1      1      1      1      1      2      8     43\n",
       "n8_m2_s10      1      1      1      2      3      7     15     57\n",
       "n8_m2_s11      1      1      1      1      2      4      8     28\n",
       "n8_m2_s12      1      1      1      2      7     27    123    861\n",
       "n8_m2_s13      1      1      1      1      3      8     40    276\n",
       "n8_m2_s14      1      1      1      1      1      1      1      4\n",
       "n8_m2_s15      1      1      1      1      1      1      6     42\n",
       "n8_m2_s16      1      1      1      1      2      5     13     68\n",
       "n8_m2_s17      1      1      1      2      4      9     28    104\n",
       "n8_m2_s18      1      1      1      1      1      1      2      4\n",
       "n8_m2_s19      1      1      1      1      1      4     18     84\n",
       "n8_m2_s20      1      1      1      1      1      1      3     12"
      ]
     },
     "execution_count": 148,
     "metadata": {},
     "output_type": "execute_result"
    }
   ],
   "source": [
    "df_ground_truth_tau"
   ]
  },
  {
   "cell_type": "code",
   "execution_count": 149,
   "id": "18eaf3c8-6514-4f39-8d45-dcaac90b087b",
   "metadata": {},
   "outputs": [
    {
     "data": {
      "text/html": [
       "<div>\n",
       "<style scoped>\n",
       "    .dataframe tbody tr th:only-of-type {\n",
       "        vertical-align: middle;\n",
       "    }\n",
       "\n",
       "    .dataframe tbody tr th {\n",
       "        vertical-align: top;\n",
       "    }\n",
       "\n",
       "    .dataframe thead th {\n",
       "        text-align: right;\n",
       "    }\n",
       "</style>\n",
       "<table border=\"1\" class=\"dataframe\">\n",
       "  <thead>\n",
       "    <tr style=\"text-align: right;\">\n",
       "      <th></th>\n",
       "      <th>ell_1</th>\n",
       "      <th>ell_2</th>\n",
       "      <th>ell_3</th>\n",
       "      <th>ell_4</th>\n",
       "      <th>ell_5</th>\n",
       "      <th>ell_6</th>\n",
       "      <th>ell_7</th>\n",
       "      <th>ell_8</th>\n",
       "    </tr>\n",
       "    <tr>\n",
       "      <th>instance</th>\n",
       "      <th></th>\n",
       "      <th></th>\n",
       "      <th></th>\n",
       "      <th></th>\n",
       "      <th></th>\n",
       "      <th></th>\n",
       "      <th></th>\n",
       "      <th></th>\n",
       "    </tr>\n",
       "  </thead>\n",
       "  <tbody>\n",
       "    <tr>\n",
       "      <th>n8_m2_s1</th>\n",
       "      <td>1</td>\n",
       "      <td>1</td>\n",
       "      <td>2</td>\n",
       "      <td>1</td>\n",
       "      <td>1</td>\n",
       "      <td>1</td>\n",
       "      <td>1</td>\n",
       "      <td>3</td>\n",
       "    </tr>\n",
       "    <tr>\n",
       "      <th>n8_m2_s2</th>\n",
       "      <td>1</td>\n",
       "      <td>1</td>\n",
       "      <td>2</td>\n",
       "      <td>4</td>\n",
       "      <td>14</td>\n",
       "      <td>44</td>\n",
       "      <td>104</td>\n",
       "      <td>286</td>\n",
       "    </tr>\n",
       "    <tr>\n",
       "      <th>n8_m2_s3</th>\n",
       "      <td>1</td>\n",
       "      <td>1</td>\n",
       "      <td>2</td>\n",
       "      <td>4</td>\n",
       "      <td>11</td>\n",
       "      <td>27</td>\n",
       "      <td>75</td>\n",
       "      <td>310</td>\n",
       "    </tr>\n",
       "    <tr>\n",
       "      <th>n8_m2_s4</th>\n",
       "      <td>1</td>\n",
       "      <td>1</td>\n",
       "      <td>1</td>\n",
       "      <td>1</td>\n",
       "      <td>2</td>\n",
       "      <td>8</td>\n",
       "      <td>28</td>\n",
       "      <td>130</td>\n",
       "    </tr>\n",
       "    <tr>\n",
       "      <th>n8_m2_s5</th>\n",
       "      <td>1</td>\n",
       "      <td>1</td>\n",
       "      <td>1</td>\n",
       "      <td>1</td>\n",
       "      <td>1</td>\n",
       "      <td>4</td>\n",
       "      <td>24</td>\n",
       "      <td>168</td>\n",
       "    </tr>\n",
       "    <tr>\n",
       "      <th>n8_m2_s6</th>\n",
       "      <td>1</td>\n",
       "      <td>1</td>\n",
       "      <td>1</td>\n",
       "      <td>2</td>\n",
       "      <td>4</td>\n",
       "      <td>10</td>\n",
       "      <td>18</td>\n",
       "      <td>56</td>\n",
       "    </tr>\n",
       "    <tr>\n",
       "      <th>n8_m2_s7</th>\n",
       "      <td>1</td>\n",
       "      <td>1</td>\n",
       "      <td>1</td>\n",
       "      <td>1</td>\n",
       "      <td>3</td>\n",
       "      <td>6</td>\n",
       "      <td>22</td>\n",
       "      <td>104</td>\n",
       "    </tr>\n",
       "    <tr>\n",
       "      <th>n8_m2_s8</th>\n",
       "      <td>1</td>\n",
       "      <td>1</td>\n",
       "      <td>1</td>\n",
       "      <td>1</td>\n",
       "      <td>1</td>\n",
       "      <td>1</td>\n",
       "      <td>1</td>\n",
       "      <td>7</td>\n",
       "    </tr>\n",
       "    <tr>\n",
       "      <th>n8_m2_s9</th>\n",
       "      <td>1</td>\n",
       "      <td>1</td>\n",
       "      <td>1</td>\n",
       "      <td>1</td>\n",
       "      <td>1</td>\n",
       "      <td>2</td>\n",
       "      <td>8</td>\n",
       "      <td>43</td>\n",
       "    </tr>\n",
       "    <tr>\n",
       "      <th>n8_m2_s10</th>\n",
       "      <td>1</td>\n",
       "      <td>1</td>\n",
       "      <td>2</td>\n",
       "      <td>2</td>\n",
       "      <td>5</td>\n",
       "      <td>9</td>\n",
       "      <td>15</td>\n",
       "      <td>57</td>\n",
       "    </tr>\n",
       "    <tr>\n",
       "      <th>n8_m2_s11</th>\n",
       "      <td>1</td>\n",
       "      <td>1</td>\n",
       "      <td>1</td>\n",
       "      <td>1</td>\n",
       "      <td>2</td>\n",
       "      <td>4</td>\n",
       "      <td>8</td>\n",
       "      <td>28</td>\n",
       "    </tr>\n",
       "    <tr>\n",
       "      <th>n8_m2_s12</th>\n",
       "      <td>1</td>\n",
       "      <td>1</td>\n",
       "      <td>1</td>\n",
       "      <td>3</td>\n",
       "      <td>7</td>\n",
       "      <td>27</td>\n",
       "      <td>123</td>\n",
       "      <td>861</td>\n",
       "    </tr>\n",
       "    <tr>\n",
       "      <th>n8_m2_s13</th>\n",
       "      <td>1</td>\n",
       "      <td>1</td>\n",
       "      <td>2</td>\n",
       "      <td>3</td>\n",
       "      <td>7</td>\n",
       "      <td>15</td>\n",
       "      <td>71</td>\n",
       "      <td>276</td>\n",
       "    </tr>\n",
       "    <tr>\n",
       "      <th>n8_m2_s14</th>\n",
       "      <td>1</td>\n",
       "      <td>1</td>\n",
       "      <td>1</td>\n",
       "      <td>1</td>\n",
       "      <td>2</td>\n",
       "      <td>1</td>\n",
       "      <td>1</td>\n",
       "      <td>4</td>\n",
       "    </tr>\n",
       "    <tr>\n",
       "      <th>n8_m2_s15</th>\n",
       "      <td>1</td>\n",
       "      <td>1</td>\n",
       "      <td>1</td>\n",
       "      <td>1</td>\n",
       "      <td>1</td>\n",
       "      <td>1</td>\n",
       "      <td>6</td>\n",
       "      <td>42</td>\n",
       "    </tr>\n",
       "    <tr>\n",
       "      <th>n8_m2_s16</th>\n",
       "      <td>1</td>\n",
       "      <td>2</td>\n",
       "      <td>2</td>\n",
       "      <td>2</td>\n",
       "      <td>2</td>\n",
       "      <td>6</td>\n",
       "      <td>13</td>\n",
       "      <td>68</td>\n",
       "    </tr>\n",
       "    <tr>\n",
       "      <th>n8_m2_s17</th>\n",
       "      <td>1</td>\n",
       "      <td>1</td>\n",
       "      <td>1</td>\n",
       "      <td>2</td>\n",
       "      <td>4</td>\n",
       "      <td>9</td>\n",
       "      <td>28</td>\n",
       "      <td>104</td>\n",
       "    </tr>\n",
       "    <tr>\n",
       "      <th>n8_m2_s18</th>\n",
       "      <td>1</td>\n",
       "      <td>1</td>\n",
       "      <td>1</td>\n",
       "      <td>1</td>\n",
       "      <td>1</td>\n",
       "      <td>1</td>\n",
       "      <td>2</td>\n",
       "      <td>4</td>\n",
       "    </tr>\n",
       "    <tr>\n",
       "      <th>n8_m2_s19</th>\n",
       "      <td>1</td>\n",
       "      <td>1</td>\n",
       "      <td>1</td>\n",
       "      <td>1</td>\n",
       "      <td>1</td>\n",
       "      <td>4</td>\n",
       "      <td>18</td>\n",
       "      <td>84</td>\n",
       "    </tr>\n",
       "    <tr>\n",
       "      <th>n8_m2_s20</th>\n",
       "      <td>1</td>\n",
       "      <td>1</td>\n",
       "      <td>1</td>\n",
       "      <td>1</td>\n",
       "      <td>1</td>\n",
       "      <td>1</td>\n",
       "      <td>3</td>\n",
       "      <td>12</td>\n",
       "    </tr>\n",
       "  </tbody>\n",
       "</table>\n",
       "</div>"
      ],
      "text/plain": [
       "           ell_1  ell_2  ell_3  ell_4  ell_5  ell_6  ell_7  ell_8\n",
       "instance                                                         \n",
       "n8_m2_s1       1      1      2      1      1      1      1      3\n",
       "n8_m2_s2       1      1      2      4     14     44    104    286\n",
       "n8_m2_s3       1      1      2      4     11     27     75    310\n",
       "n8_m2_s4       1      1      1      1      2      8     28    130\n",
       "n8_m2_s5       1      1      1      1      1      4     24    168\n",
       "n8_m2_s6       1      1      1      2      4     10     18     56\n",
       "n8_m2_s7       1      1      1      1      3      6     22    104\n",
       "n8_m2_s8       1      1      1      1      1      1      1      7\n",
       "n8_m2_s9       1      1      1      1      1      2      8     43\n",
       "n8_m2_s10      1      1      2      2      5      9     15     57\n",
       "n8_m2_s11      1      1      1      1      2      4      8     28\n",
       "n8_m2_s12      1      1      1      3      7     27    123    861\n",
       "n8_m2_s13      1      1      2      3      7     15     71    276\n",
       "n8_m2_s14      1      1      1      1      2      1      1      4\n",
       "n8_m2_s15      1      1      1      1      1      1      6     42\n",
       "n8_m2_s16      1      2      2      2      2      6     13     68\n",
       "n8_m2_s17      1      1      1      2      4      9     28    104\n",
       "n8_m2_s18      1      1      1      1      1      1      2      4\n",
       "n8_m2_s19      1      1      1      1      1      4     18     84\n",
       "n8_m2_s20      1      1      1      1      1      1      3     12"
      ]
     },
     "execution_count": 149,
     "metadata": {},
     "output_type": "execute_result"
    }
   ],
   "source": [
    "df_ground_truth_sapling"
   ]
  },
  {
   "cell_type": "code",
   "execution_count": 40,
   "id": "7bcf060c-775e-42fd-8c6d-c43829235e8d",
   "metadata": {},
   "outputs": [],
   "source": [
    "rows = []\n",
    "n = 8\n",
    "for seed in range(1, 21):\n",
    "    row = {}\n",
    "    row['instance']=\"n8_m2_s%d\" % seed\n",
    "    for ell in range(1, n+1):\n",
    "        with open(\"sims_tau_n8_sapling/n8_m2_s%d_ell%d.tsv\" % (seed, ell), \"r\") as f:\n",
    "            length = len(f.readlines()) - 1\n",
    "            row['ell_%d' % ell] = length\n",
    "    rows.append(row)\n",
    "df_ground_truth_sapling = pd.DataFrame(rows)\n",
    "df_ground_truth_sapling.set_index('instance', inplace=True)"
   ]
  },
  {
   "cell_type": "code",
   "execution_count": 51,
   "id": "dcee6893-304a-4068-a42c-f02d3719d6c6",
   "metadata": {},
   "outputs": [
    {
     "name": "stdout",
     "output_type": "stream",
     "text": [
      "Object `df_ground_truth_sapling[\"ell_8\"].median()` not found.\n"
     ]
    }
   ],
   "source": [
    "df_ground_truth_sapling[\"ell_8\"].median()"
   ]
  },
  {
   "cell_type": "code",
   "execution_count": 81,
   "id": "01b72f0d-7f17-4d55-93bf-89cec124adfc",
   "metadata": {},
   "outputs": [],
   "source": [
    "df_approx_ratio = df_ground_truth_sapling.divide(df_ground_truth_tau)"
   ]
  },
  {
   "cell_type": "code",
   "execution_count": 104,
   "id": "7b49f066-fb26-4066-86d5-c5148c72e7da",
   "metadata": {},
   "outputs": [
    {
     "data": {
      "image/png": "[encoded data removed]",
      "text/plain": [
       "<Figure size 200x450 with 1 Axes>"
      ]
     },
     "metadata": {},
     "output_type": "display_data"
    }
   ],
   "source": [
    "fig, ax = plt.subplots(figsize=(2, 4.5))\n",
    "ax = sns.boxplot(data=df_ground_truth_tau, ax=ax, y=\"ell_8\", showfliers=False)\n",
    "sns.stripplot(data=df_ground_truth_tau, ax=ax, y=\"ell_8\", color=sns.color_palette()[0], alpha=.5, linewidth=1)\n",
    "ax.set_ylabel(\"number $|\\mathcal{T}^{(0.9)}|$ of backbone trees\")\n",
    "plt.tight_layout()\n",
    "plt.savefig(\"n8_full_trees.pdf\")"
   ]
  },
  {
   "cell_type": "code",
   "execution_count": 105,
   "id": "090af53f-544c-4c1a-8b84-5e4c3af4a80f",
   "metadata": {},
   "outputs": [
    {
     "name": "stderr",
     "output_type": "stream",
     "text": [
      "/var/folders/_6/xs7jqx4d4_x084c61frqwsrr0000gn/T/ipykernel_38071/3392244569.py:5: UserWarning: set_ticklabels() should only be used with a fixed number of ticks, i.e. after set_ticks() or using a FixedLocator.\n",
      "  ax.set_xticklabels(range(1,9))\n"
     ]
    },
    {
     "data": {
      "text/plain": [
       "Text(0, 0.5, 'approximation ratio')"
      ]
     },
     "execution_count": 105,
     "metadata": {},
     "output_type": "execute_result"
    },
    {
     "data": {
      "image/png": "[encoded data removed]",
      "text/plain": [
       "<Figure size 600x400 with 1 Axes>"
      ]
     },
     "metadata": {},
     "output_type": "display_data"
    }
   ],
   "source": [
    "df_melt = df_approx_ratio.melt(var_name=\"ell\",value_name=\"trees\", ignore_index=False)\n",
    "fig, ax = plt.subplots(figsize=(6, 4))\n",
    "sns.boxplot(data=df_melt, ax=ax, y=\"trees\", x=\"ell\", showfliers=False)\n",
    "sns.stripplot(data=df_melt, ax=ax, y=\"trees\", x=\"ell\", color=sns.color_palette()[0], alpha=.5, linewidth=1)\n",
    "ax.set_xticklabels(range(1,9))\n",
    "ax.set_xlabel(\"number $\\ell$ of mutations\")\n",
    "ax.set_ylabel(\"approximation ratio\")\n",
    "# ax.set_ylabel(\"number $|\\mathcal{T}^{(0.9)}|$ of backbone trees\")\n",
    "# plt.tight_layout()\n",
    "# plt.savefig(\"n8_full_trees.pdf\")"
   ]
  },
  {
   "cell_type": "code",
   "execution_count": 153,
   "id": "77f6ba77-2bc4-45bb-94e6-c5415a22017f",
   "metadata": {},
   "outputs": [],
   "source": [
    "tau1_gt_sol = []\n",
    "for idx, row in df_ground_truth_tau.iterrows():\n",
    "    tau1_gt_sol.append(0)\n",
    "    for ell in range(8):\n",
    "        if row[\"ell_%d\" % (ell + 1)] == 1:\n",
    "            tau1_gt_sol[-1] = ell + 1\n",
    "\n",
    "tau1_sapling_sol = []\n",
    "for idx, row in df_ground_truth_sapling.iterrows():\n",
    "    tau1_sapling_sol.append(0)\n",
    "    for ell in range(8):\n",
    "        if row[\"ell_%d\" % (ell + 1)] == 1:\n",
    "            tau1_sapling_sol[-1] = ell + 1"
   ]
  },
  {
   "cell_type": "code",
   "execution_count": 152,
   "id": "4e053a37-85d2-47a3-be9d-ed83c73d9849",
   "metadata": {},
   "outputs": [
    {
     "data": {
      "text/plain": [
       "[7, 2, 2, 4, 5, 3, 4, 7, 5, 2, 4, 3, 2, 7, 6, 1, 3, 6, 5, 6]"
      ]
     },
     "execution_count": 152,
     "metadata": {},
     "output_type": "execute_result"
    }
   ],
   "source": [
    "tau1_gt_sol"
   ]
  },
  {
   "cell_type": "code",
   "execution_count": 157,
   "id": "c883c112-3588-494c-8de6-a8ecb4727e19",
   "metadata": {},
   "outputs": [
    {
     "name": "stdout",
     "output_type": "stream",
     "text": [
      "1 & 7 & 7 & 1.00\\\\\n",
      "2 & 4 & 2 & 0.50\\\\\n",
      "3 & 4 & 2 & 0.50\\\\\n",
      "4 & 4 & 4 & 1.00\\\\\n",
      "5 & 5 & 5 & 1.00\\\\\n",
      "6 & 4 & 3 & 0.75\\\\\n",
      "7 & 4 & 4 & 1.00\\\\\n",
      "8 & 7 & 7 & 1.00\\\\\n",
      "9 & 5 & 5 & 1.00\\\\\n",
      "10 & 3 & 2 & 0.67\\\\\n",
      "11 & 4 & 4 & 1.00\\\\\n",
      "12 & 3 & 3 & 1.00\\\\\n",
      "13 & 4 & 2 & 0.50\\\\\n",
      "14 & 7 & 7 & 1.00\\\\\n",
      "15 & 6 & 6 & 1.00\\\\\n",
      "16 & 4 & 1 & 0.25\\\\\n",
      "17 & 3 & 3 & 1.00\\\\\n",
      "18 & 6 & 6 & 1.00\\\\\n",
      "19 & 5 & 5 & 1.00\\\\\n",
      "20 & 6 & 6 & 1.00\\\\\n"
     ]
    }
   ],
   "source": [
    "for idx in range(20):\n",
    "    print(\" & \".join(map(str, [idx + 1, tau1_gt_sol[idx], \n",
    "                               tau1_sapling_sol[idx], \"%.2f\" %\n",
    "                               (tau1_sapling_sol[idx] / tau1_gt_sol[idx])])) + \"\\\\\\\\\")"
   ]
  }
 ],
 "metadata": {
  "kernelspec": {
   "display_name": "Python 3 (ipykernel)",
   "language": "python",
   "name": "python3"
  },
  "language_info": {
   "codemirror_mode": {
    "name": "ipython",
    "version": 3
   },
   "file_extension": ".py",
   "mimetype": "text/x-python",
   "name": "python",
   "nbconvert_exporter": "python",
   "pygments_lexer": "ipython3",
   "version": "3.11.10"
  }
 },
 "nbformat": 4,
 "nbformat_minor": 5
}
